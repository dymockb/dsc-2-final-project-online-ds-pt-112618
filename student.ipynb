{
 "cells": [
  {
   "cell_type": "markdown",
   "metadata": {},
   "source": [
    "# MOD 2 PROJECT - NORTHWIND DATASET"
   ]
  },
  {
   "cell_type": "markdown",
   "metadata": {},
   "source": [
    "## Import libraries and set up SQL connection / engine etc"
   ]
  },
  {
   "cell_type": "code",
   "execution_count": 134,
   "metadata": {},
   "outputs": [],
   "source": [
    "import statsmodels.stats.api as sms\n",
    "from scipy import stats\n",
    "\n",
    "import numpy as np\n",
    "\n",
    "import pandas as pd\n",
    "\n",
    "import seaborn as sns\n",
    "import matplotlib.pyplot as plt\n",
    "\n",
    "import sqlite3\n",
    "import sqlalchemy\n",
    "from sqlalchemy import create_engine\n",
    "from sqlalchemy import inspect\n",
    "from sqlalchemy.orm import Session, sessionmaker"
   ]
  },
  {
   "cell_type": "code",
   "execution_count": 135,
   "metadata": {},
   "outputs": [],
   "source": [
    "connection = sqlite3.connect('Northwind_small.sqlite')\n",
    "cursor = connection.cursor()"
   ]
  },
  {
   "cell_type": "code",
   "execution_count": 136,
   "metadata": {},
   "outputs": [],
   "source": [
    "engine = create_engine(\"sqlite:///Northwind_small.sqlite\", echo=False)\n",
    "Session = sessionmaker(bind=engine)\n",
    "session = Session()"
   ]
  },
  {
   "cell_type": "code",
   "execution_count": 137,
   "metadata": {},
   "outputs": [],
   "source": [
    "#run this when working from the original Northwind_small.sqlite\n",
    "cursor.execute('''ALTER TABLE [Order] RENAME TO Orders;''')"
   ]
  },
  {
   "cell_type": "code",
   "execution_count": 138,
   "metadata": {},
   "outputs": [
    {
     "data": {
      "text/plain": [
       "{0: 'Category',\n",
       " 1: 'Customer',\n",
       " 2: 'CustomerCustomerDemo',\n",
       " 3: 'CustomerDemographic',\n",
       " 4: 'Employee',\n",
       " 5: 'EmployeeTerritory',\n",
       " 6: 'OrderDetail',\n",
       " 7: 'Orders',\n",
       " 8: 'Product',\n",
       " 9: 'Region',\n",
       " 10: 'Shipper',\n",
       " 11: 'Supplier',\n",
       " 12: 'Territory'}"
      ]
     },
     "execution_count": 138,
     "metadata": {},
     "output_type": "execute_result"
    }
   ],
   "source": [
    "inspector = inspect(engine)\n",
    "table_names = inspector.get_table_names()\n",
    "table_names_dict = {}\n",
    "\n",
    "for i in list(range(len(table_names))):\n",
    "    table_names_dict[i] = table_names[i]\n",
    "    \n",
    "table_names_dict"
   ]
  },
  {
   "cell_type": "markdown",
   "metadata": {},
   "source": [
    "### Create DataFrames for previewing data:"
   ]
  },
  {
   "cell_type": "code",
   "execution_count": 139,
   "metadata": {},
   "outputs": [
    {
     "name": "stdout",
     "output_type": "stream",
     "text": [
      "13\n"
     ]
    }
   ],
   "source": [
    "list_of_dfs = []\n",
    "\n",
    "for i in table_names:\n",
    "    df = pd.read_sql_query(\"SELECT * FROM {}\".format(i), engine)\n",
    "    list_of_dfs.append(df)\n",
    "    \n",
    "print(len(list_of_dfs))"
   ]
  },
  {
   "cell_type": "markdown",
   "metadata": {},
   "source": [
    "Preview each dataframe by changing value of n (from 0 to 12).  "
   ]
  },
  {
   "cell_type": "code",
   "execution_count": 140,
   "metadata": {},
   "outputs": [
    {
     "name": "stdout",
     "output_type": "stream",
     "text": [
      "OrderDetail\n"
     ]
    },
    {
     "data": {
      "text/html": [
       "<div>\n",
       "<style scoped>\n",
       "    .dataframe tbody tr th:only-of-type {\n",
       "        vertical-align: middle;\n",
       "    }\n",
       "\n",
       "    .dataframe tbody tr th {\n",
       "        vertical-align: top;\n",
       "    }\n",
       "\n",
       "    .dataframe thead th {\n",
       "        text-align: right;\n",
       "    }\n",
       "</style>\n",
       "<table border=\"1\" class=\"dataframe\">\n",
       "  <thead>\n",
       "    <tr style=\"text-align: right;\">\n",
       "      <th></th>\n",
       "      <th>Id</th>\n",
       "      <th>OrderId</th>\n",
       "      <th>ProductId</th>\n",
       "      <th>UnitPrice</th>\n",
       "      <th>Quantity</th>\n",
       "      <th>Discount</th>\n",
       "    </tr>\n",
       "  </thead>\n",
       "  <tbody>\n",
       "    <tr>\n",
       "      <th>0</th>\n",
       "      <td>10248/11</td>\n",
       "      <td>10248</td>\n",
       "      <td>11</td>\n",
       "      <td>14.0</td>\n",
       "      <td>12</td>\n",
       "      <td>0.0</td>\n",
       "    </tr>\n",
       "    <tr>\n",
       "      <th>1</th>\n",
       "      <td>10248/42</td>\n",
       "      <td>10248</td>\n",
       "      <td>42</td>\n",
       "      <td>9.8</td>\n",
       "      <td>10</td>\n",
       "      <td>0.0</td>\n",
       "    </tr>\n",
       "    <tr>\n",
       "      <th>2</th>\n",
       "      <td>10248/72</td>\n",
       "      <td>10248</td>\n",
       "      <td>72</td>\n",
       "      <td>34.8</td>\n",
       "      <td>5</td>\n",
       "      <td>0.0</td>\n",
       "    </tr>\n",
       "    <tr>\n",
       "      <th>3</th>\n",
       "      <td>10249/14</td>\n",
       "      <td>10249</td>\n",
       "      <td>14</td>\n",
       "      <td>18.6</td>\n",
       "      <td>9</td>\n",
       "      <td>0.0</td>\n",
       "    </tr>\n",
       "    <tr>\n",
       "      <th>4</th>\n",
       "      <td>10249/51</td>\n",
       "      <td>10249</td>\n",
       "      <td>51</td>\n",
       "      <td>42.4</td>\n",
       "      <td>40</td>\n",
       "      <td>0.0</td>\n",
       "    </tr>\n",
       "  </tbody>\n",
       "</table>\n",
       "</div>"
      ],
      "text/plain": [
       "         Id  OrderId  ProductId  UnitPrice  Quantity  Discount\n",
       "0  10248/11    10248         11       14.0        12       0.0\n",
       "1  10248/42    10248         42        9.8        10       0.0\n",
       "2  10248/72    10248         72       34.8         5       0.0\n",
       "3  10249/14    10249         14       18.6         9       0.0\n",
       "4  10249/51    10249         51       42.4        40       0.0"
      ]
     },
     "execution_count": 140,
     "metadata": {},
     "output_type": "execute_result"
    }
   ],
   "source": [
    "table_n = 6\n",
    "table_title = table_names[table_n]\n",
    "print(table_title)\n",
    "list_of_dfs[table_n].head()"
   ]
  },
  {
   "cell_type": "code",
   "execution_count": 141,
   "metadata": {},
   "outputs": [],
   "source": [
    "category_df = list_of_dfs[0]\n",
    "customer_df = list_of_dfs[1]\n",
    "customercustomerdemo_df = list_of_dfs[2]\n",
    "customerdemographic_df = list_of_dfs[3]\n",
    "employee_df = list_of_dfs[4]\n",
    "employeeterritory_df = list_of_dfs[5]\n",
    "orderdetail_df = list_of_dfs[6]\n",
    "orders_df = list_of_dfs[7]\n",
    "product_df = list_of_dfs[8]\n",
    "region_df = list_of_dfs[9]\n",
    "shipper_df = list_of_dfs[10]\n",
    "supplier_df = list_of_dfs[11]\n",
    "territory_df = list_of_dfs[12]"
   ]
  },
  {
   "cell_type": "markdown",
   "metadata": {},
   "source": [
    "### Create a master dataframe that contains information relevant to hypothesis tests:"
   ]
  },
  {
   "cell_type": "code",
   "execution_count": 142,
   "metadata": {},
   "outputs": [],
   "source": [
    "order_detail_dates = pd.merge(orderdetail_df, orders_df, how='left',\n",
    "        left_on='OrderId', right_on='Id')"
   ]
  },
  {
   "cell_type": "code",
   "execution_count": 143,
   "metadata": {},
   "outputs": [
    {
     "data": {
      "text/plain": [
       "2155"
      ]
     },
     "execution_count": 143,
     "metadata": {},
     "output_type": "execute_result"
    }
   ],
   "source": [
    "len(order_detail_dates)"
   ]
  },
  {
   "cell_type": "code",
   "execution_count": 144,
   "metadata": {},
   "outputs": [
    {
     "data": {
      "text/html": [
       "<div>\n",
       "<style scoped>\n",
       "    .dataframe tbody tr th:only-of-type {\n",
       "        vertical-align: middle;\n",
       "    }\n",
       "\n",
       "    .dataframe tbody tr th {\n",
       "        vertical-align: top;\n",
       "    }\n",
       "\n",
       "    .dataframe thead th {\n",
       "        text-align: right;\n",
       "    }\n",
       "</style>\n",
       "<table border=\"1\" class=\"dataframe\">\n",
       "  <thead>\n",
       "    <tr style=\"text-align: right;\">\n",
       "      <th></th>\n",
       "      <th>Id_x</th>\n",
       "      <th>OrderId</th>\n",
       "      <th>ProductId</th>\n",
       "      <th>UnitPrice</th>\n",
       "      <th>Quantity</th>\n",
       "      <th>Discount</th>\n",
       "      <th>Id_y</th>\n",
       "      <th>CustomerId</th>\n",
       "      <th>EmployeeId</th>\n",
       "      <th>OrderDate</th>\n",
       "      <th>RequiredDate</th>\n",
       "      <th>ShippedDate</th>\n",
       "      <th>ShipVia</th>\n",
       "      <th>Freight</th>\n",
       "      <th>ShipName</th>\n",
       "      <th>ShipAddress</th>\n",
       "      <th>ShipCity</th>\n",
       "      <th>ShipRegion</th>\n",
       "      <th>ShipPostalCode</th>\n",
       "      <th>ShipCountry</th>\n",
       "    </tr>\n",
       "  </thead>\n",
       "  <tbody>\n",
       "    <tr>\n",
       "      <th>0</th>\n",
       "      <td>10248/11</td>\n",
       "      <td>10248</td>\n",
       "      <td>11</td>\n",
       "      <td>14.0</td>\n",
       "      <td>12</td>\n",
       "      <td>0.0</td>\n",
       "      <td>10248</td>\n",
       "      <td>VINET</td>\n",
       "      <td>5</td>\n",
       "      <td>2012-07-04</td>\n",
       "      <td>2012-08-01</td>\n",
       "      <td>2012-07-16</td>\n",
       "      <td>3</td>\n",
       "      <td>32.38</td>\n",
       "      <td>Vins et alcools Chevalier</td>\n",
       "      <td>59 rue de l'Abbaye</td>\n",
       "      <td>Reims</td>\n",
       "      <td>Western Europe</td>\n",
       "      <td>51100</td>\n",
       "      <td>France</td>\n",
       "    </tr>\n",
       "    <tr>\n",
       "      <th>1</th>\n",
       "      <td>10248/42</td>\n",
       "      <td>10248</td>\n",
       "      <td>42</td>\n",
       "      <td>9.8</td>\n",
       "      <td>10</td>\n",
       "      <td>0.0</td>\n",
       "      <td>10248</td>\n",
       "      <td>VINET</td>\n",
       "      <td>5</td>\n",
       "      <td>2012-07-04</td>\n",
       "      <td>2012-08-01</td>\n",
       "      <td>2012-07-16</td>\n",
       "      <td>3</td>\n",
       "      <td>32.38</td>\n",
       "      <td>Vins et alcools Chevalier</td>\n",
       "      <td>59 rue de l'Abbaye</td>\n",
       "      <td>Reims</td>\n",
       "      <td>Western Europe</td>\n",
       "      <td>51100</td>\n",
       "      <td>France</td>\n",
       "    </tr>\n",
       "    <tr>\n",
       "      <th>2</th>\n",
       "      <td>10248/72</td>\n",
       "      <td>10248</td>\n",
       "      <td>72</td>\n",
       "      <td>34.8</td>\n",
       "      <td>5</td>\n",
       "      <td>0.0</td>\n",
       "      <td>10248</td>\n",
       "      <td>VINET</td>\n",
       "      <td>5</td>\n",
       "      <td>2012-07-04</td>\n",
       "      <td>2012-08-01</td>\n",
       "      <td>2012-07-16</td>\n",
       "      <td>3</td>\n",
       "      <td>32.38</td>\n",
       "      <td>Vins et alcools Chevalier</td>\n",
       "      <td>59 rue de l'Abbaye</td>\n",
       "      <td>Reims</td>\n",
       "      <td>Western Europe</td>\n",
       "      <td>51100</td>\n",
       "      <td>France</td>\n",
       "    </tr>\n",
       "    <tr>\n",
       "      <th>3</th>\n",
       "      <td>10249/14</td>\n",
       "      <td>10249</td>\n",
       "      <td>14</td>\n",
       "      <td>18.6</td>\n",
       "      <td>9</td>\n",
       "      <td>0.0</td>\n",
       "      <td>10249</td>\n",
       "      <td>TOMSP</td>\n",
       "      <td>6</td>\n",
       "      <td>2012-07-05</td>\n",
       "      <td>2012-08-16</td>\n",
       "      <td>2012-07-10</td>\n",
       "      <td>1</td>\n",
       "      <td>11.61</td>\n",
       "      <td>Toms Spezialitäten</td>\n",
       "      <td>Luisenstr. 48</td>\n",
       "      <td>Münster</td>\n",
       "      <td>Western Europe</td>\n",
       "      <td>44087</td>\n",
       "      <td>Germany</td>\n",
       "    </tr>\n",
       "    <tr>\n",
       "      <th>4</th>\n",
       "      <td>10249/51</td>\n",
       "      <td>10249</td>\n",
       "      <td>51</td>\n",
       "      <td>42.4</td>\n",
       "      <td>40</td>\n",
       "      <td>0.0</td>\n",
       "      <td>10249</td>\n",
       "      <td>TOMSP</td>\n",
       "      <td>6</td>\n",
       "      <td>2012-07-05</td>\n",
       "      <td>2012-08-16</td>\n",
       "      <td>2012-07-10</td>\n",
       "      <td>1</td>\n",
       "      <td>11.61</td>\n",
       "      <td>Toms Spezialitäten</td>\n",
       "      <td>Luisenstr. 48</td>\n",
       "      <td>Münster</td>\n",
       "      <td>Western Europe</td>\n",
       "      <td>44087</td>\n",
       "      <td>Germany</td>\n",
       "    </tr>\n",
       "  </tbody>\n",
       "</table>\n",
       "</div>"
      ],
      "text/plain": [
       "       Id_x  OrderId  ProductId  UnitPrice  Quantity  Discount   Id_y  \\\n",
       "0  10248/11    10248         11       14.0        12       0.0  10248   \n",
       "1  10248/42    10248         42        9.8        10       0.0  10248   \n",
       "2  10248/72    10248         72       34.8         5       0.0  10248   \n",
       "3  10249/14    10249         14       18.6         9       0.0  10249   \n",
       "4  10249/51    10249         51       42.4        40       0.0  10249   \n",
       "\n",
       "  CustomerId  EmployeeId   OrderDate RequiredDate ShippedDate  ShipVia  \\\n",
       "0      VINET           5  2012-07-04   2012-08-01  2012-07-16        3   \n",
       "1      VINET           5  2012-07-04   2012-08-01  2012-07-16        3   \n",
       "2      VINET           5  2012-07-04   2012-08-01  2012-07-16        3   \n",
       "3      TOMSP           6  2012-07-05   2012-08-16  2012-07-10        1   \n",
       "4      TOMSP           6  2012-07-05   2012-08-16  2012-07-10        1   \n",
       "\n",
       "   Freight                   ShipName         ShipAddress ShipCity  \\\n",
       "0    32.38  Vins et alcools Chevalier  59 rue de l'Abbaye    Reims   \n",
       "1    32.38  Vins et alcools Chevalier  59 rue de l'Abbaye    Reims   \n",
       "2    32.38  Vins et alcools Chevalier  59 rue de l'Abbaye    Reims   \n",
       "3    11.61         Toms Spezialitäten       Luisenstr. 48  Münster   \n",
       "4    11.61         Toms Spezialitäten       Luisenstr. 48  Münster   \n",
       "\n",
       "       ShipRegion ShipPostalCode ShipCountry  \n",
       "0  Western Europe          51100      France  \n",
       "1  Western Europe          51100      France  \n",
       "2  Western Europe          51100      France  \n",
       "3  Western Europe          44087     Germany  \n",
       "4  Western Europe          44087     Germany  "
      ]
     },
     "execution_count": 144,
     "metadata": {},
     "output_type": "execute_result"
    }
   ],
   "source": [
    "order_detail_dates.head()"
   ]
  },
  {
   "cell_type": "code",
   "execution_count": 145,
   "metadata": {},
   "outputs": [],
   "source": [
    "order_detail_prices = pd.merge(order_detail_dates, product_df, how='left',\n",
    "        left_on='ProductId', right_on='Id')"
   ]
  },
  {
   "cell_type": "code",
   "execution_count": 146,
   "metadata": {},
   "outputs": [
    {
     "data": {
      "text/plain": [
       "2155"
      ]
     },
     "execution_count": 146,
     "metadata": {},
     "output_type": "execute_result"
    }
   ],
   "source": [
    "len(order_detail_prices)"
   ]
  },
  {
   "cell_type": "code",
   "execution_count": 147,
   "metadata": {},
   "outputs": [
    {
     "data": {
      "text/html": [
       "<div>\n",
       "<style scoped>\n",
       "    .dataframe tbody tr th:only-of-type {\n",
       "        vertical-align: middle;\n",
       "    }\n",
       "\n",
       "    .dataframe tbody tr th {\n",
       "        vertical-align: top;\n",
       "    }\n",
       "\n",
       "    .dataframe thead th {\n",
       "        text-align: right;\n",
       "    }\n",
       "</style>\n",
       "<table border=\"1\" class=\"dataframe\">\n",
       "  <thead>\n",
       "    <tr style=\"text-align: right;\">\n",
       "      <th></th>\n",
       "      <th>Id_x</th>\n",
       "      <th>OrderId</th>\n",
       "      <th>ProductId</th>\n",
       "      <th>UnitPrice_x</th>\n",
       "      <th>Quantity</th>\n",
       "      <th>Discount</th>\n",
       "      <th>Id_y</th>\n",
       "      <th>CustomerId</th>\n",
       "      <th>EmployeeId</th>\n",
       "      <th>OrderDate</th>\n",
       "      <th>...</th>\n",
       "      <th>Id</th>\n",
       "      <th>ProductName</th>\n",
       "      <th>SupplierId</th>\n",
       "      <th>CategoryId</th>\n",
       "      <th>QuantityPerUnit</th>\n",
       "      <th>UnitPrice_y</th>\n",
       "      <th>UnitsInStock</th>\n",
       "      <th>UnitsOnOrder</th>\n",
       "      <th>ReorderLevel</th>\n",
       "      <th>Discontinued</th>\n",
       "    </tr>\n",
       "  </thead>\n",
       "  <tbody>\n",
       "    <tr>\n",
       "      <th>0</th>\n",
       "      <td>10248/11</td>\n",
       "      <td>10248</td>\n",
       "      <td>11</td>\n",
       "      <td>14.0</td>\n",
       "      <td>12</td>\n",
       "      <td>0.0</td>\n",
       "      <td>10248</td>\n",
       "      <td>VINET</td>\n",
       "      <td>5</td>\n",
       "      <td>2012-07-04</td>\n",
       "      <td>...</td>\n",
       "      <td>11</td>\n",
       "      <td>Queso Cabrales</td>\n",
       "      <td>5</td>\n",
       "      <td>4</td>\n",
       "      <td>1 kg pkg.</td>\n",
       "      <td>21.00</td>\n",
       "      <td>22</td>\n",
       "      <td>30</td>\n",
       "      <td>30</td>\n",
       "      <td>0</td>\n",
       "    </tr>\n",
       "    <tr>\n",
       "      <th>1</th>\n",
       "      <td>10248/42</td>\n",
       "      <td>10248</td>\n",
       "      <td>42</td>\n",
       "      <td>9.8</td>\n",
       "      <td>10</td>\n",
       "      <td>0.0</td>\n",
       "      <td>10248</td>\n",
       "      <td>VINET</td>\n",
       "      <td>5</td>\n",
       "      <td>2012-07-04</td>\n",
       "      <td>...</td>\n",
       "      <td>42</td>\n",
       "      <td>Singaporean Hokkien Fried Mee</td>\n",
       "      <td>20</td>\n",
       "      <td>5</td>\n",
       "      <td>32 - 1 kg pkgs.</td>\n",
       "      <td>14.00</td>\n",
       "      <td>26</td>\n",
       "      <td>0</td>\n",
       "      <td>0</td>\n",
       "      <td>1</td>\n",
       "    </tr>\n",
       "    <tr>\n",
       "      <th>2</th>\n",
       "      <td>10248/72</td>\n",
       "      <td>10248</td>\n",
       "      <td>72</td>\n",
       "      <td>34.8</td>\n",
       "      <td>5</td>\n",
       "      <td>0.0</td>\n",
       "      <td>10248</td>\n",
       "      <td>VINET</td>\n",
       "      <td>5</td>\n",
       "      <td>2012-07-04</td>\n",
       "      <td>...</td>\n",
       "      <td>72</td>\n",
       "      <td>Mozzarella di Giovanni</td>\n",
       "      <td>14</td>\n",
       "      <td>4</td>\n",
       "      <td>24 - 200 g pkgs.</td>\n",
       "      <td>34.80</td>\n",
       "      <td>14</td>\n",
       "      <td>0</td>\n",
       "      <td>0</td>\n",
       "      <td>0</td>\n",
       "    </tr>\n",
       "    <tr>\n",
       "      <th>3</th>\n",
       "      <td>10249/14</td>\n",
       "      <td>10249</td>\n",
       "      <td>14</td>\n",
       "      <td>18.6</td>\n",
       "      <td>9</td>\n",
       "      <td>0.0</td>\n",
       "      <td>10249</td>\n",
       "      <td>TOMSP</td>\n",
       "      <td>6</td>\n",
       "      <td>2012-07-05</td>\n",
       "      <td>...</td>\n",
       "      <td>14</td>\n",
       "      <td>Tofu</td>\n",
       "      <td>6</td>\n",
       "      <td>7</td>\n",
       "      <td>40 - 100 g pkgs.</td>\n",
       "      <td>23.25</td>\n",
       "      <td>35</td>\n",
       "      <td>0</td>\n",
       "      <td>0</td>\n",
       "      <td>0</td>\n",
       "    </tr>\n",
       "    <tr>\n",
       "      <th>4</th>\n",
       "      <td>10249/51</td>\n",
       "      <td>10249</td>\n",
       "      <td>51</td>\n",
       "      <td>42.4</td>\n",
       "      <td>40</td>\n",
       "      <td>0.0</td>\n",
       "      <td>10249</td>\n",
       "      <td>TOMSP</td>\n",
       "      <td>6</td>\n",
       "      <td>2012-07-05</td>\n",
       "      <td>...</td>\n",
       "      <td>51</td>\n",
       "      <td>Manjimup Dried Apples</td>\n",
       "      <td>24</td>\n",
       "      <td>7</td>\n",
       "      <td>50 - 300 g pkgs.</td>\n",
       "      <td>53.00</td>\n",
       "      <td>20</td>\n",
       "      <td>0</td>\n",
       "      <td>10</td>\n",
       "      <td>0</td>\n",
       "    </tr>\n",
       "  </tbody>\n",
       "</table>\n",
       "<p>5 rows × 30 columns</p>\n",
       "</div>"
      ],
      "text/plain": [
       "       Id_x  OrderId  ProductId  UnitPrice_x  Quantity  Discount   Id_y  \\\n",
       "0  10248/11    10248         11         14.0        12       0.0  10248   \n",
       "1  10248/42    10248         42          9.8        10       0.0  10248   \n",
       "2  10248/72    10248         72         34.8         5       0.0  10248   \n",
       "3  10249/14    10249         14         18.6         9       0.0  10249   \n",
       "4  10249/51    10249         51         42.4        40       0.0  10249   \n",
       "\n",
       "  CustomerId  EmployeeId   OrderDate     ...       Id  \\\n",
       "0      VINET           5  2012-07-04     ...       11   \n",
       "1      VINET           5  2012-07-04     ...       42   \n",
       "2      VINET           5  2012-07-04     ...       72   \n",
       "3      TOMSP           6  2012-07-05     ...       14   \n",
       "4      TOMSP           6  2012-07-05     ...       51   \n",
       "\n",
       "                     ProductName  SupplierId  CategoryId   QuantityPerUnit  \\\n",
       "0                 Queso Cabrales           5           4         1 kg pkg.   \n",
       "1  Singaporean Hokkien Fried Mee          20           5   32 - 1 kg pkgs.   \n",
       "2         Mozzarella di Giovanni          14           4  24 - 200 g pkgs.   \n",
       "3                           Tofu           6           7  40 - 100 g pkgs.   \n",
       "4          Manjimup Dried Apples          24           7  50 - 300 g pkgs.   \n",
       "\n",
       "  UnitPrice_y UnitsInStock UnitsOnOrder ReorderLevel Discontinued  \n",
       "0       21.00           22           30           30            0  \n",
       "1       14.00           26            0            0            1  \n",
       "2       34.80           14            0            0            0  \n",
       "3       23.25           35            0            0            0  \n",
       "4       53.00           20            0           10            0  \n",
       "\n",
       "[5 rows x 30 columns]"
      ]
     },
     "execution_count": 147,
     "metadata": {},
     "output_type": "execute_result"
    }
   ],
   "source": [
    "order_detail_prices.head()"
   ]
  },
  {
   "cell_type": "code",
   "execution_count": 148,
   "metadata": {},
   "outputs": [
    {
     "data": {
      "text/plain": [
       "Index(['Id_x', 'OrderId', 'ProductId', 'UnitPrice_x', 'Quantity', 'Discount',\n",
       "       'Id_y', 'CustomerId', 'EmployeeId', 'OrderDate', 'RequiredDate',\n",
       "       'ShippedDate', 'ShipVia', 'Freight', 'ShipName', 'ShipAddress',\n",
       "       'ShipCity', 'ShipRegion', 'ShipPostalCode', 'ShipCountry', 'Id',\n",
       "       'ProductName', 'SupplierId', 'CategoryId', 'QuantityPerUnit',\n",
       "       'UnitPrice_y', 'UnitsInStock', 'UnitsOnOrder', 'ReorderLevel',\n",
       "       'Discontinued'],\n",
       "      dtype='object')"
      ]
     },
     "execution_count": 148,
     "metadata": {},
     "output_type": "execute_result"
    }
   ],
   "source": [
    "order_detail_prices.columns"
   ]
  },
  {
   "cell_type": "code",
   "execution_count": 149,
   "metadata": {},
   "outputs": [],
   "source": [
    "cols_to_drop = ['Id_x', 'Id_y', 'RequiredDate', 'ShippedDate', 'ShipVia', 'Freight', 'ShipName', 'ShipAddress', 'ShipCity', 'ShipRegion', 'ShipPostalCode', 'ShipCountry', 'Id', 'SupplierId', 'CategoryId', 'QuantityPerUnit', 'UnitsInStock', 'UnitsOnOrder', 'ReorderLevel', 'Discontinued']"
   ]
  },
  {
   "cell_type": "code",
   "execution_count": 150,
   "metadata": {},
   "outputs": [],
   "source": [
    "new_df = order_detail_prices.drop(cols_to_drop, 1)\n",
    "new_df.rename(columns={'UnitPrice_x': 'SalePrice', 'UnitPrice_y': 'ListPrice'}, inplace=True)"
   ]
  },
  {
   "cell_type": "code",
   "execution_count": 151,
   "metadata": {},
   "outputs": [
    {
     "data": {
      "text/plain": [
       "2155"
      ]
     },
     "execution_count": 151,
     "metadata": {},
     "output_type": "execute_result"
    }
   ],
   "source": [
    "len(new_df)"
   ]
  },
  {
   "cell_type": "code",
   "execution_count": 152,
   "metadata": {},
   "outputs": [],
   "source": [
    "main_df = pd.merge(new_df, employee_df[[\"Id\", \"FirstName\"]], how='left',\n",
    "        left_on='EmployeeId', right_on='Id')"
   ]
  },
  {
   "cell_type": "code",
   "execution_count": 153,
   "metadata": {},
   "outputs": [
    {
     "data": {
      "text/plain": [
       "2155"
      ]
     },
     "execution_count": 153,
     "metadata": {},
     "output_type": "execute_result"
    }
   ],
   "source": [
    "len(main_df)"
   ]
  },
  {
   "cell_type": "code",
   "execution_count": 154,
   "metadata": {},
   "outputs": [
    {
     "data": {
      "text/html": [
       "<div>\n",
       "<style scoped>\n",
       "    .dataframe tbody tr th:only-of-type {\n",
       "        vertical-align: middle;\n",
       "    }\n",
       "\n",
       "    .dataframe tbody tr th {\n",
       "        vertical-align: top;\n",
       "    }\n",
       "\n",
       "    .dataframe thead th {\n",
       "        text-align: right;\n",
       "    }\n",
       "</style>\n",
       "<table border=\"1\" class=\"dataframe\">\n",
       "  <thead>\n",
       "    <tr style=\"text-align: right;\">\n",
       "      <th></th>\n",
       "      <th>OrderId</th>\n",
       "      <th>ProductId</th>\n",
       "      <th>SalePrice</th>\n",
       "      <th>Quantity</th>\n",
       "      <th>Discount</th>\n",
       "      <th>CustomerId</th>\n",
       "      <th>EmployeeId</th>\n",
       "      <th>OrderDate</th>\n",
       "      <th>ProductName</th>\n",
       "      <th>ListPrice</th>\n",
       "      <th>Id</th>\n",
       "      <th>FirstName</th>\n",
       "    </tr>\n",
       "  </thead>\n",
       "  <tbody>\n",
       "    <tr>\n",
       "      <th>0</th>\n",
       "      <td>10248</td>\n",
       "      <td>11</td>\n",
       "      <td>14.0</td>\n",
       "      <td>12</td>\n",
       "      <td>0.0</td>\n",
       "      <td>VINET</td>\n",
       "      <td>5</td>\n",
       "      <td>2012-07-04</td>\n",
       "      <td>Queso Cabrales</td>\n",
       "      <td>21.00</td>\n",
       "      <td>5</td>\n",
       "      <td>Steven</td>\n",
       "    </tr>\n",
       "    <tr>\n",
       "      <th>1</th>\n",
       "      <td>10248</td>\n",
       "      <td>42</td>\n",
       "      <td>9.8</td>\n",
       "      <td>10</td>\n",
       "      <td>0.0</td>\n",
       "      <td>VINET</td>\n",
       "      <td>5</td>\n",
       "      <td>2012-07-04</td>\n",
       "      <td>Singaporean Hokkien Fried Mee</td>\n",
       "      <td>14.00</td>\n",
       "      <td>5</td>\n",
       "      <td>Steven</td>\n",
       "    </tr>\n",
       "    <tr>\n",
       "      <th>2</th>\n",
       "      <td>10248</td>\n",
       "      <td>72</td>\n",
       "      <td>34.8</td>\n",
       "      <td>5</td>\n",
       "      <td>0.0</td>\n",
       "      <td>VINET</td>\n",
       "      <td>5</td>\n",
       "      <td>2012-07-04</td>\n",
       "      <td>Mozzarella di Giovanni</td>\n",
       "      <td>34.80</td>\n",
       "      <td>5</td>\n",
       "      <td>Steven</td>\n",
       "    </tr>\n",
       "    <tr>\n",
       "      <th>3</th>\n",
       "      <td>10249</td>\n",
       "      <td>14</td>\n",
       "      <td>18.6</td>\n",
       "      <td>9</td>\n",
       "      <td>0.0</td>\n",
       "      <td>TOMSP</td>\n",
       "      <td>6</td>\n",
       "      <td>2012-07-05</td>\n",
       "      <td>Tofu</td>\n",
       "      <td>23.25</td>\n",
       "      <td>6</td>\n",
       "      <td>Michael</td>\n",
       "    </tr>\n",
       "    <tr>\n",
       "      <th>4</th>\n",
       "      <td>10249</td>\n",
       "      <td>51</td>\n",
       "      <td>42.4</td>\n",
       "      <td>40</td>\n",
       "      <td>0.0</td>\n",
       "      <td>TOMSP</td>\n",
       "      <td>6</td>\n",
       "      <td>2012-07-05</td>\n",
       "      <td>Manjimup Dried Apples</td>\n",
       "      <td>53.00</td>\n",
       "      <td>6</td>\n",
       "      <td>Michael</td>\n",
       "    </tr>\n",
       "  </tbody>\n",
       "</table>\n",
       "</div>"
      ],
      "text/plain": [
       "   OrderId  ProductId  SalePrice  Quantity  Discount CustomerId  EmployeeId  \\\n",
       "0    10248         11       14.0        12       0.0      VINET           5   \n",
       "1    10248         42        9.8        10       0.0      VINET           5   \n",
       "2    10248         72       34.8         5       0.0      VINET           5   \n",
       "3    10249         14       18.6         9       0.0      TOMSP           6   \n",
       "4    10249         51       42.4        40       0.0      TOMSP           6   \n",
       "\n",
       "    OrderDate                    ProductName  ListPrice  Id FirstName  \n",
       "0  2012-07-04                 Queso Cabrales      21.00   5    Steven  \n",
       "1  2012-07-04  Singaporean Hokkien Fried Mee      14.00   5    Steven  \n",
       "2  2012-07-04         Mozzarella di Giovanni      34.80   5    Steven  \n",
       "3  2012-07-05                           Tofu      23.25   6   Michael  \n",
       "4  2012-07-05          Manjimup Dried Apples      53.00   6   Michael  "
      ]
     },
     "execution_count": 154,
     "metadata": {},
     "output_type": "execute_result"
    }
   ],
   "source": [
    "main_df.head()"
   ]
  },
  {
   "cell_type": "code",
   "execution_count": 155,
   "metadata": {},
   "outputs": [
    {
     "data": {
      "text/html": [
       "<div>\n",
       "<style scoped>\n",
       "    .dataframe tbody tr th:only-of-type {\n",
       "        vertical-align: middle;\n",
       "    }\n",
       "\n",
       "    .dataframe tbody tr th {\n",
       "        vertical-align: top;\n",
       "    }\n",
       "\n",
       "    .dataframe thead th {\n",
       "        text-align: right;\n",
       "    }\n",
       "</style>\n",
       "<table border=\"1\" class=\"dataframe\">\n",
       "  <thead>\n",
       "    <tr style=\"text-align: right;\">\n",
       "      <th></th>\n",
       "      <th>OrderId</th>\n",
       "      <th>CustomerId</th>\n",
       "      <th>EmployeeId</th>\n",
       "      <th>FirstName</th>\n",
       "      <th>Quantity</th>\n",
       "      <th>Discount</th>\n",
       "      <th>OrderDate</th>\n",
       "      <th>ProductId</th>\n",
       "      <th>ProductName</th>\n",
       "      <th>SalePrice</th>\n",
       "      <th>ListPrice</th>\n",
       "    </tr>\n",
       "  </thead>\n",
       "  <tbody>\n",
       "    <tr>\n",
       "      <th>0</th>\n",
       "      <td>10248</td>\n",
       "      <td>VINET</td>\n",
       "      <td>5</td>\n",
       "      <td>Steven</td>\n",
       "      <td>12</td>\n",
       "      <td>0.0</td>\n",
       "      <td>2012-07-04</td>\n",
       "      <td>11</td>\n",
       "      <td>Queso Cabrales</td>\n",
       "      <td>14.0</td>\n",
       "      <td>21.00</td>\n",
       "    </tr>\n",
       "    <tr>\n",
       "      <th>1</th>\n",
       "      <td>10248</td>\n",
       "      <td>VINET</td>\n",
       "      <td>5</td>\n",
       "      <td>Steven</td>\n",
       "      <td>10</td>\n",
       "      <td>0.0</td>\n",
       "      <td>2012-07-04</td>\n",
       "      <td>42</td>\n",
       "      <td>Singaporean Hokkien Fried Mee</td>\n",
       "      <td>9.8</td>\n",
       "      <td>14.00</td>\n",
       "    </tr>\n",
       "    <tr>\n",
       "      <th>2</th>\n",
       "      <td>10248</td>\n",
       "      <td>VINET</td>\n",
       "      <td>5</td>\n",
       "      <td>Steven</td>\n",
       "      <td>5</td>\n",
       "      <td>0.0</td>\n",
       "      <td>2012-07-04</td>\n",
       "      <td>72</td>\n",
       "      <td>Mozzarella di Giovanni</td>\n",
       "      <td>34.8</td>\n",
       "      <td>34.80</td>\n",
       "    </tr>\n",
       "    <tr>\n",
       "      <th>3</th>\n",
       "      <td>10249</td>\n",
       "      <td>TOMSP</td>\n",
       "      <td>6</td>\n",
       "      <td>Michael</td>\n",
       "      <td>9</td>\n",
       "      <td>0.0</td>\n",
       "      <td>2012-07-05</td>\n",
       "      <td>14</td>\n",
       "      <td>Tofu</td>\n",
       "      <td>18.6</td>\n",
       "      <td>23.25</td>\n",
       "    </tr>\n",
       "    <tr>\n",
       "      <th>4</th>\n",
       "      <td>10249</td>\n",
       "      <td>TOMSP</td>\n",
       "      <td>6</td>\n",
       "      <td>Michael</td>\n",
       "      <td>40</td>\n",
       "      <td>0.0</td>\n",
       "      <td>2012-07-05</td>\n",
       "      <td>51</td>\n",
       "      <td>Manjimup Dried Apples</td>\n",
       "      <td>42.4</td>\n",
       "      <td>53.00</td>\n",
       "    </tr>\n",
       "  </tbody>\n",
       "</table>\n",
       "</div>"
      ],
      "text/plain": [
       "   OrderId CustomerId  EmployeeId FirstName  Quantity  Discount   OrderDate  \\\n",
       "0    10248      VINET           5    Steven        12       0.0  2012-07-04   \n",
       "1    10248      VINET           5    Steven        10       0.0  2012-07-04   \n",
       "2    10248      VINET           5    Steven         5       0.0  2012-07-04   \n",
       "3    10249      TOMSP           6   Michael         9       0.0  2012-07-05   \n",
       "4    10249      TOMSP           6   Michael        40       0.0  2012-07-05   \n",
       "\n",
       "   ProductId                    ProductName  SalePrice  ListPrice  \n",
       "0         11                 Queso Cabrales       14.0      21.00  \n",
       "1         42  Singaporean Hokkien Fried Mee        9.8      14.00  \n",
       "2         72         Mozzarella di Giovanni       34.8      34.80  \n",
       "3         14                           Tofu       18.6      23.25  \n",
       "4         51          Manjimup Dried Apples       42.4      53.00  "
      ]
     },
     "execution_count": 155,
     "metadata": {},
     "output_type": "execute_result"
    }
   ],
   "source": [
    "main_df = main_df[['OrderId', 'CustomerId', 'EmployeeId', 'FirstName', 'Quantity', 'Discount', 'OrderDate', 'ProductId', 'ProductName','SalePrice', 'ListPrice']]\n",
    "main_df.head()"
   ]
  },
  {
   "cell_type": "code",
   "execution_count": 156,
   "metadata": {},
   "outputs": [],
   "source": [
    "main_df.loc[main_df['SalePrice'] == main_df['ListPrice'], 'OrderBeforePriceRise'] = 'No'\n",
    "main_df.loc[main_df['SalePrice'] != main_df['ListPrice'], 'OrderBeforePriceRise'] = 'Yes'"
   ]
  },
  {
   "cell_type": "markdown",
   "metadata": {},
   "source": [
    "### Preview the master dataframe:"
   ]
  },
  {
   "cell_type": "code",
   "execution_count": 157,
   "metadata": {},
   "outputs": [
    {
     "name": "stdout",
     "output_type": "stream",
     "text": [
      "2155\n"
     ]
    },
    {
     "data": {
      "text/html": [
       "<div>\n",
       "<style scoped>\n",
       "    .dataframe tbody tr th:only-of-type {\n",
       "        vertical-align: middle;\n",
       "    }\n",
       "\n",
       "    .dataframe tbody tr th {\n",
       "        vertical-align: top;\n",
       "    }\n",
       "\n",
       "    .dataframe thead th {\n",
       "        text-align: right;\n",
       "    }\n",
       "</style>\n",
       "<table border=\"1\" class=\"dataframe\">\n",
       "  <thead>\n",
       "    <tr style=\"text-align: right;\">\n",
       "      <th></th>\n",
       "      <th>OrderId</th>\n",
       "      <th>CustomerId</th>\n",
       "      <th>EmployeeId</th>\n",
       "      <th>FirstName</th>\n",
       "      <th>Quantity</th>\n",
       "      <th>Discount</th>\n",
       "      <th>OrderDate</th>\n",
       "      <th>ProductId</th>\n",
       "      <th>ProductName</th>\n",
       "      <th>SalePrice</th>\n",
       "      <th>ListPrice</th>\n",
       "      <th>OrderBeforePriceRise</th>\n",
       "    </tr>\n",
       "  </thead>\n",
       "  <tbody>\n",
       "    <tr>\n",
       "      <th>0</th>\n",
       "      <td>10248</td>\n",
       "      <td>VINET</td>\n",
       "      <td>5</td>\n",
       "      <td>Steven</td>\n",
       "      <td>12</td>\n",
       "      <td>0.0</td>\n",
       "      <td>2012-07-04</td>\n",
       "      <td>11</td>\n",
       "      <td>Queso Cabrales</td>\n",
       "      <td>14.0</td>\n",
       "      <td>21.00</td>\n",
       "      <td>Yes</td>\n",
       "    </tr>\n",
       "    <tr>\n",
       "      <th>1</th>\n",
       "      <td>10248</td>\n",
       "      <td>VINET</td>\n",
       "      <td>5</td>\n",
       "      <td>Steven</td>\n",
       "      <td>10</td>\n",
       "      <td>0.0</td>\n",
       "      <td>2012-07-04</td>\n",
       "      <td>42</td>\n",
       "      <td>Singaporean Hokkien Fried Mee</td>\n",
       "      <td>9.8</td>\n",
       "      <td>14.00</td>\n",
       "      <td>Yes</td>\n",
       "    </tr>\n",
       "    <tr>\n",
       "      <th>2</th>\n",
       "      <td>10248</td>\n",
       "      <td>VINET</td>\n",
       "      <td>5</td>\n",
       "      <td>Steven</td>\n",
       "      <td>5</td>\n",
       "      <td>0.0</td>\n",
       "      <td>2012-07-04</td>\n",
       "      <td>72</td>\n",
       "      <td>Mozzarella di Giovanni</td>\n",
       "      <td>34.8</td>\n",
       "      <td>34.80</td>\n",
       "      <td>No</td>\n",
       "    </tr>\n",
       "    <tr>\n",
       "      <th>3</th>\n",
       "      <td>10249</td>\n",
       "      <td>TOMSP</td>\n",
       "      <td>6</td>\n",
       "      <td>Michael</td>\n",
       "      <td>9</td>\n",
       "      <td>0.0</td>\n",
       "      <td>2012-07-05</td>\n",
       "      <td>14</td>\n",
       "      <td>Tofu</td>\n",
       "      <td>18.6</td>\n",
       "      <td>23.25</td>\n",
       "      <td>Yes</td>\n",
       "    </tr>\n",
       "    <tr>\n",
       "      <th>4</th>\n",
       "      <td>10249</td>\n",
       "      <td>TOMSP</td>\n",
       "      <td>6</td>\n",
       "      <td>Michael</td>\n",
       "      <td>40</td>\n",
       "      <td>0.0</td>\n",
       "      <td>2012-07-05</td>\n",
       "      <td>51</td>\n",
       "      <td>Manjimup Dried Apples</td>\n",
       "      <td>42.4</td>\n",
       "      <td>53.00</td>\n",
       "      <td>Yes</td>\n",
       "    </tr>\n",
       "  </tbody>\n",
       "</table>\n",
       "</div>"
      ],
      "text/plain": [
       "   OrderId CustomerId  EmployeeId FirstName  Quantity  Discount   OrderDate  \\\n",
       "0    10248      VINET           5    Steven        12       0.0  2012-07-04   \n",
       "1    10248      VINET           5    Steven        10       0.0  2012-07-04   \n",
       "2    10248      VINET           5    Steven         5       0.0  2012-07-04   \n",
       "3    10249      TOMSP           6   Michael         9       0.0  2012-07-05   \n",
       "4    10249      TOMSP           6   Michael        40       0.0  2012-07-05   \n",
       "\n",
       "   ProductId                    ProductName  SalePrice  ListPrice  \\\n",
       "0         11                 Queso Cabrales       14.0      21.00   \n",
       "1         42  Singaporean Hokkien Fried Mee        9.8      14.00   \n",
       "2         72         Mozzarella di Giovanni       34.8      34.80   \n",
       "3         14                           Tofu       18.6      23.25   \n",
       "4         51          Manjimup Dried Apples       42.4      53.00   \n",
       "\n",
       "  OrderBeforePriceRise  \n",
       "0                  Yes  \n",
       "1                  Yes  \n",
       "2                   No  \n",
       "3                  Yes  \n",
       "4                  Yes  "
      ]
     },
     "execution_count": 157,
     "metadata": {},
     "output_type": "execute_result"
    }
   ],
   "source": [
    "print(len(main_df))\n",
    "main_df.head()"
   ]
  },
  {
   "cell_type": "markdown",
   "metadata": {},
   "source": [
    "### Check the values of the discount column:"
   ]
  },
  {
   "cell_type": "code",
   "execution_count": 158,
   "metadata": {},
   "outputs": [
    {
     "data": {
      "text/plain": [
       "array([0.  , 0.15, 0.05, 0.2 , 0.25, 0.1 , 0.02, 0.03, 0.04, 0.06, 0.01])"
      ]
     },
     "execution_count": 158,
     "metadata": {},
     "output_type": "execute_result"
    }
   ],
   "source": [
    "main_df.Discount.unique()"
   ]
  },
  {
   "cell_type": "code",
   "execution_count": 159,
   "metadata": {},
   "outputs": [],
   "source": [
    "main_df = main_df.drop(main_df[main_df.Discount==0.01].index)\n",
    "main_df = main_df.drop(main_df[main_df.Discount==0.06].index)\n",
    "main_df = main_df.drop(main_df[main_df.Discount==0.04].index)\n",
    "main_df = main_df.drop(main_df[main_df.Discount==0.03].index)\n",
    "main_df = main_df.drop(main_df[main_df.Discount==0.02].index)"
   ]
  },
  {
   "cell_type": "code",
   "execution_count": 160,
   "metadata": {},
   "outputs": [
    {
     "data": {
      "text/plain": [
       "array([0.  , 0.15, 0.05, 0.2 , 0.25, 0.1 ])"
      ]
     },
     "execution_count": 160,
     "metadata": {},
     "output_type": "execute_result"
    }
   ],
   "source": [
    "main_df.Discount.unique()"
   ]
  },
  {
   "cell_type": "code",
   "execution_count": 161,
   "metadata": {},
   "outputs": [
    {
     "data": {
      "text/plain": [
       "2147"
      ]
     },
     "execution_count": 161,
     "metadata": {},
     "output_type": "execute_result"
    }
   ],
   "source": [
    "len(main_df)"
   ]
  },
  {
   "cell_type": "markdown",
   "metadata": {},
   "source": [
    "# Question 1:\n",
    "\n",
    "## Do discounts have a statistically significant effect on the number of products customers order?  If so, at what level(s) of discount?"
   ]
  },
  {
   "cell_type": "markdown",
   "metadata": {},
   "source": [
    "### Null Hypothesis:\n",
    "\n",
    "The mean number of products ordered at discounted prices is the same as the mean number of products ordered at non-discounted prices.\n",
    "\n",
    "### Alternative Hypothesis\n",
    "\n",
    "The mean number of products ordered at discounted prices is greater than the mean number of products ordered at non-discounted prices.\n",
    "\n",
    "### Type of statistical test used:\n",
    "\n",
    "One tailed t-test (greater-than)\n",
    "\n",
    "### Data-set used:\n",
    "\n",
    "The order quantities at the individual product-order level, where discounts are directly applied.  All dates and all order quantities are included, to maintain a uniform dataset across all 4 questions answered."
   ]
  },
  {
   "cell_type": "markdown",
   "metadata": {},
   "source": [
    "## Create data for analysis using SQL:"
   ]
  },
  {
   "cell_type": "markdown",
   "metadata": {},
   "source": [
    "Delete orders with typo discounts"
   ]
  },
  {
   "cell_type": "code",
   "execution_count": 162,
   "metadata": {},
   "outputs": [
    {
     "data": {
      "text/html": [
       "<div>\n",
       "<style scoped>\n",
       "    .dataframe tbody tr th:only-of-type {\n",
       "        vertical-align: middle;\n",
       "    }\n",
       "\n",
       "    .dataframe tbody tr th {\n",
       "        vertical-align: top;\n",
       "    }\n",
       "\n",
       "    .dataframe thead th {\n",
       "        text-align: right;\n",
       "    }\n",
       "</style>\n",
       "<table border=\"1\" class=\"dataframe\">\n",
       "  <thead>\n",
       "    <tr style=\"text-align: right;\">\n",
       "      <th></th>\n",
       "      <th>Discount</th>\n",
       "      <th>Num_Orders</th>\n",
       "    </tr>\n",
       "  </thead>\n",
       "  <tbody>\n",
       "    <tr>\n",
       "      <th>0</th>\n",
       "      <td>0.00</td>\n",
       "      <td>1317</td>\n",
       "    </tr>\n",
       "    <tr>\n",
       "      <th>1</th>\n",
       "      <td>0.01</td>\n",
       "      <td>1</td>\n",
       "    </tr>\n",
       "    <tr>\n",
       "      <th>2</th>\n",
       "      <td>0.02</td>\n",
       "      <td>2</td>\n",
       "    </tr>\n",
       "    <tr>\n",
       "      <th>3</th>\n",
       "      <td>0.03</td>\n",
       "      <td>3</td>\n",
       "    </tr>\n",
       "    <tr>\n",
       "      <th>4</th>\n",
       "      <td>0.04</td>\n",
       "      <td>1</td>\n",
       "    </tr>\n",
       "    <tr>\n",
       "      <th>5</th>\n",
       "      <td>0.05</td>\n",
       "      <td>185</td>\n",
       "    </tr>\n",
       "    <tr>\n",
       "      <th>6</th>\n",
       "      <td>0.06</td>\n",
       "      <td>1</td>\n",
       "    </tr>\n",
       "    <tr>\n",
       "      <th>7</th>\n",
       "      <td>0.10</td>\n",
       "      <td>173</td>\n",
       "    </tr>\n",
       "    <tr>\n",
       "      <th>8</th>\n",
       "      <td>0.15</td>\n",
       "      <td>157</td>\n",
       "    </tr>\n",
       "    <tr>\n",
       "      <th>9</th>\n",
       "      <td>0.20</td>\n",
       "      <td>161</td>\n",
       "    </tr>\n",
       "    <tr>\n",
       "      <th>10</th>\n",
       "      <td>0.25</td>\n",
       "      <td>154</td>\n",
       "    </tr>\n",
       "  </tbody>\n",
       "</table>\n",
       "</div>"
      ],
      "text/plain": [
       "    Discount  Num_Orders\n",
       "0       0.00        1317\n",
       "1       0.01           1\n",
       "2       0.02           2\n",
       "3       0.03           3\n",
       "4       0.04           1\n",
       "5       0.05         185\n",
       "6       0.06           1\n",
       "7       0.10         173\n",
       "8       0.15         157\n",
       "9       0.20         161\n",
       "10      0.25         154"
      ]
     },
     "execution_count": 162,
     "metadata": {},
     "output_type": "execute_result"
    }
   ],
   "source": [
    "rs = cursor.execute('''SELECT Discount, COUNT(Quantity) FROM OrderDetail GROUP BY Discount;''')\n",
    "df = pd.DataFrame(rs.fetchall())\n",
    "df.columns = ['Discount', 'Num_Orders']\n",
    "df"
   ]
  },
  {
   "cell_type": "code",
   "execution_count": 163,
   "metadata": {},
   "outputs": [],
   "source": [
    "cursor.execute('''DELETE FROM OrderDetail WHERE Discount = 0.01;''');\n",
    "cursor.execute('''DELETE FROM OrderDetail WHERE Discount = 0.02;''');\n",
    "cursor.execute('''DELETE FROM OrderDetail WHERE Discount = 0.03;''');\n",
    "cursor.execute('''DELETE FROM OrderDetail WHERE Discount = 0.04;''');\n",
    "cursor.execute('''DELETE FROM OrderDetail WHERE Discount = 0.06;''');"
   ]
  },
  {
   "cell_type": "code",
   "execution_count": 164,
   "metadata": {},
   "outputs": [
    {
     "data": {
      "text/html": [
       "<div>\n",
       "<style scoped>\n",
       "    .dataframe tbody tr th:only-of-type {\n",
       "        vertical-align: middle;\n",
       "    }\n",
       "\n",
       "    .dataframe tbody tr th {\n",
       "        vertical-align: top;\n",
       "    }\n",
       "\n",
       "    .dataframe thead th {\n",
       "        text-align: right;\n",
       "    }\n",
       "</style>\n",
       "<table border=\"1\" class=\"dataframe\">\n",
       "  <thead>\n",
       "    <tr style=\"text-align: right;\">\n",
       "      <th></th>\n",
       "      <th>Discount</th>\n",
       "      <th>Num_Orders</th>\n",
       "    </tr>\n",
       "  </thead>\n",
       "  <tbody>\n",
       "    <tr>\n",
       "      <th>0</th>\n",
       "      <td>0.00</td>\n",
       "      <td>1317</td>\n",
       "    </tr>\n",
       "    <tr>\n",
       "      <th>1</th>\n",
       "      <td>0.05</td>\n",
       "      <td>185</td>\n",
       "    </tr>\n",
       "    <tr>\n",
       "      <th>2</th>\n",
       "      <td>0.10</td>\n",
       "      <td>173</td>\n",
       "    </tr>\n",
       "    <tr>\n",
       "      <th>3</th>\n",
       "      <td>0.15</td>\n",
       "      <td>157</td>\n",
       "    </tr>\n",
       "    <tr>\n",
       "      <th>4</th>\n",
       "      <td>0.20</td>\n",
       "      <td>161</td>\n",
       "    </tr>\n",
       "    <tr>\n",
       "      <th>5</th>\n",
       "      <td>0.25</td>\n",
       "      <td>154</td>\n",
       "    </tr>\n",
       "  </tbody>\n",
       "</table>\n",
       "</div>"
      ],
      "text/plain": [
       "   Discount  Num_Orders\n",
       "0      0.00        1317\n",
       "1      0.05         185\n",
       "2      0.10         173\n",
       "3      0.15         157\n",
       "4      0.20         161\n",
       "5      0.25         154"
      ]
     },
     "execution_count": 164,
     "metadata": {},
     "output_type": "execute_result"
    }
   ],
   "source": [
    "rs = cursor.execute('''SELECT Discount, COUNT(Quantity) FROM OrderDetail GROUP BY Discount;''')\n",
    "df = pd.DataFrame(rs.fetchall())\n",
    "df.columns = ['Discount', 'Num_Orders']\n",
    "df"
   ]
  },
  {
   "cell_type": "markdown",
   "metadata": {},
   "source": [
    "### Create lists of order quantities for non-discounted and discounted products:"
   ]
  },
  {
   "cell_type": "code",
   "execution_count": 165,
   "metadata": {},
   "outputs": [],
   "source": [
    "#list of qnty of products per order when no discounts are applied\n",
    "all_orders_no_disc = cursor.execute('''SELECT Quantity FROM OrderDetail WHERE Discount = 0''').fetchall();\n",
    "all_orders_no_disc_list = []\n",
    "for i in all_orders_no_disc:\n",
    "    all_orders_no_disc_list.append(i[0])"
   ]
  },
  {
   "cell_type": "code",
   "execution_count": 166,
   "metadata": {},
   "outputs": [],
   "source": [
    "#list of qnty of products per order when any discount is applied\n",
    "all_orders_all_disc = cursor.execute('''SELECT Quantity FROM OrderDetail WHERE Discount > 0''').fetchall();\n",
    "all_orders_all_disc_list = []\n",
    "for i in all_orders_all_disc:\n",
    "    all_orders_all_disc_list.append(i[0])"
   ]
  },
  {
   "cell_type": "markdown",
   "metadata": {},
   "source": [
    "Visualise discounted and non-discounted orders:"
   ]
  },
  {
   "cell_type": "code",
   "execution_count": 167,
   "metadata": {},
   "outputs": [
    {
     "data": {
      "image/png": "[encoded data removed]",
      "text/plain": [
       "<Figure size 1008x576 with 1 Axes>"
      ]
     },
     "metadata": {},
     "output_type": "display_data"
    }
   ],
   "source": [
    "sns.set(color_codes=True)\n",
    "sns.set(rc={'figure.figsize':(14,8)})\n",
    "\n",
    "fig = sns.distplot(all_orders_no_disc_list)\n",
    "fig = sns.distplot(all_orders_all_disc_list)\n",
    "plt.xlabel(\"Order Quantities\")\n",
    "plt.title(\"DISTRIBUTION OF ORDERS FOR INDIVIDUAL PRODUCTS \\n \\n Red: Discounted Orders / Blue: Non-Discounted Orders\");"
   ]
  },
  {
   "cell_type": "markdown",
   "metadata": {},
   "source": [
    "# Set significance level (alpha)"
   ]
  },
  {
   "cell_type": "code",
   "execution_count": 168,
   "metadata": {},
   "outputs": [],
   "source": [
    "alpha = 0.05"
   ]
  },
  {
   "cell_type": "markdown",
   "metadata": {},
   "source": [
    "## Power simulation: sample size requirements for a given effect size"
   ]
  },
  {
   "cell_type": "code",
   "execution_count": 169,
   "metadata": {},
   "outputs": [
    {
     "name": "stdout",
     "output_type": "stream",
     "text": [
      "The average number of orders when no discounts are in place is: 21.72\n",
      "\n",
      "The average number of orders at discounted prices is: 27.35.\n",
      "\n",
      "What sample size would be required to detect this difference 95% of the time at an alpha level of 0.05?\n"
     ]
    }
   ],
   "source": [
    "no_disc_mean = np.array(all_orders_no_disc_list).mean()\n",
    "\n",
    "print('The average number of orders when no discounts are in place is: ' + str(round(no_disc_mean, 2)) + '\\n')\n",
    "\n",
    "mean_to_detect = np.array(all_orders_all_disc_list).mean()\n",
    "\n",
    "print('The average number of orders at discounted prices is: ' + str(round(mean_to_detect, 2)) + '.\\n\\nWhat sample size would be required to detect this difference 95% of the time at an alpha level of ' + str(alpha) + '?')"
   ]
  },
  {
   "cell_type": "code",
   "execution_count": 170,
   "metadata": {},
   "outputs": [
    {
     "name": "stdout",
     "output_type": "stream",
     "text": [
      "The std deviation of the non-discounted orders is: 17.500845477669806\n",
      "The std deviation of the disounted orders is: 20.708180684895275\n"
     ]
    }
   ],
   "source": [
    "std_dev_no_disc = np.array(all_orders_no_disc_list).std()\n",
    "std_dev_disc = np.array(all_orders_all_disc_list).std()\n",
    "\n",
    "print('The std deviation of the non-discounted orders is: ' + str(std_dev_no_disc))\n",
    "print('The std deviation of the disounted orders is: ' + str(std_dev_disc))"
   ]
  },
  {
   "cell_type": "code",
   "execution_count": 171,
   "metadata": {},
   "outputs": [],
   "source": [
    "target = 0.95\n",
    "sample_size  = 100\n",
    "current = 0\n",
    "n_sim = 800"
   ]
  },
  {
   "cell_type": "code",
   "execution_count": 172,
   "metadata": {},
   "outputs": [
    {
     "name": "stdout",
     "output_type": "stream",
     "text": [
      "Number of Samples: 100 , Calculated Power = 0.66\n",
      "Number of Samples: 110 , Calculated Power = 0.7175\n",
      "Number of Samples: 120 , Calculated Power = 0.71\n",
      "Number of Samples: 130 , Calculated Power = 0.75375\n",
      "Number of Samples: 140 , Calculated Power = 0.76875\n",
      "Number of Samples: 150 , Calculated Power = 0.8125\n",
      "Number of Samples: 160 , Calculated Power = 0.81125\n",
      "Number of Samples: 170 , Calculated Power = 0.84875\n",
      "Number of Samples: 180 , Calculated Power = 0.88\n",
      "Number of Samples: 190 , Calculated Power = 0.86875\n",
      "Number of Samples: 200 , Calculated Power = 0.90375\n",
      "Number of Samples: 210 , Calculated Power = 0.9275\n",
      "Number of Samples: 220 , Calculated Power = 0.925\n",
      "Number of Samples: 230 , Calculated Power = 0.9425\n",
      "Number of Samples: 240 , Calculated Power = 0.94375\n",
      "Number of Samples: 250 , Calculated Power = 0.94875\n",
      "Number of Samples: 260 , Calculated Power = 0.94875\n",
      "Number of Samples: 270 , Calculated Power = 0.94875\n",
      "Number of Samples: 280 , Calculated Power = 0.96875\n"
     ]
    },
    {
     "data": {
      "text/plain": [
       "[280, 0.96875]"
      ]
     },
     "execution_count": 172,
     "metadata": {},
     "output_type": "execute_result"
    }
   ],
   "source": [
    "np.random.seed(10)\n",
    "\n",
    "power_sample = [] \n",
    "\n",
    "while current < target:\n",
    "    data = np.empty([n_sim, sample_size, 2])\n",
    "    data.fill(np.nan)\n",
    "\n",
    "    # For non-discounted orders\n",
    "    data[:,:,0] = np.random.normal(loc=no_disc_mean, scale=std_dev_no_disc, size=[n_sim, sample_size])\n",
    "\n",
    "    # For discounted orders\n",
    "    data[:,:,1] = np.random.normal(loc=mean_to_detect, scale=std_dev_disc, size=[n_sim, sample_size])\n",
    "\n",
    "    result = stats.ttest_ind(data[:, :, 0],data[:, :, 1],axis=1)\n",
    "    p = result[1] \n",
    "    # Number of simulations where the null hypothesis was rejected\n",
    "\n",
    "    rejects = np.sum(p/2 < alpha)\n",
    "\n",
    "    # Calculate reject proportion\n",
    "\n",
    "    reject_proportion = rejects/ float(n_sim) \n",
    "    current = reject_proportion \n",
    "    print (\"Number of Samples:\", sample_size,\", Calculated Power =\", current)\n",
    "    power_sample.append([sample_size, current]) \n",
    "   \n",
    "    # increase the number of samples for the next iteration of the loop\n",
    "    sample_size += 10\n",
    "    \n",
    "power_sample[-1]"
   ]
  },
  {
   "cell_type": "markdown",
   "metadata": {},
   "source": [
    "Set required sample size:"
   ]
  },
  {
   "cell_type": "code",
   "execution_count": 173,
   "metadata": {},
   "outputs": [
    {
     "data": {
      "text/plain": [
       "280"
      ]
     },
     "execution_count": 173,
     "metadata": {},
     "output_type": "execute_result"
    }
   ],
   "source": [
    "sample_size_req = power_sample[-1][0]\n",
    "sample_size_req"
   ]
  },
  {
   "cell_type": "code",
   "execution_count": 174,
   "metadata": {},
   "outputs": [
    {
     "data": {
      "image/png": "[encoded data removed]",
      "text/plain": [
       "<Figure size 1008x576 with 1 Axes>"
      ]
     },
     "metadata": {},
     "output_type": "display_data"
    }
   ],
   "source": [
    "sample_size_req = power_sample[-1][0]\n",
    "no_disc_sample = np.random.choice(all_orders_no_disc_list, sample_size_req)\n",
    "all_disc_sample = np.random.choice(all_orders_all_disc_list, sample_size_req)\n",
    "\n",
    "sns.set(color_codes=True)\n",
    "sns.set(rc={'figure.figsize':(14,8)})\n",
    "\n",
    "fig = sns.distplot(no_disc_sample)\n",
    "fig = sns.distplot(all_disc_sample)\n",
    "plt.xlabel(\"Order Quantities\")\n",
    "plt.title(\"DISTRIBUTION OF SAMPLES OF ORDERS FOR INDIVIDUAL PRODUCTS \\n \\n Red: Discounted Orders / Blue: Non-Discounted Orders\");\n"
   ]
  },
  {
   "cell_type": "markdown",
   "metadata": {},
   "source": [
    "## Perform t-test:"
   ]
  },
  {
   "cell_type": "markdown",
   "metadata": {},
   "source": [
    "To reject the null hypothesis, the t_statistic must be > 0 and p/2 < alpha."
   ]
  },
  {
   "cell_type": "code",
   "execution_count": 250,
   "metadata": {},
   "outputs": [],
   "source": [
    "def one_tailed_t_test(test_if_greater,control):\n",
    "    \"\"\" Runs a two tailed t-test on the two samples, and compares p_value/2 to alpha for a 1-tailed result.\n",
    "    \n",
    "    Prints a description of results. The first parameter/sample should have a higher mean than the second for correct output.\n",
    "    \n",
    "    \"\"\"\n",
    "    \n",
    "    t_stat, p_value = stats.ttest_ind(test_if_greater, control)\n",
    "    \n",
    "    if t_stat > 0:\n",
    "        print('The mean of sample_b is greater than the mean of sample_a.')\n",
    "    else:\n",
    "        print('The mean of sample_b is lower than the mean of sample_a.')\n",
    "    if p_value/2 < alpha:\n",
    "        print('The one-tailed p_value of ' + str(p_value/2) + ' is less than ' + str(alpha) + ' so the difference is statistically significant. \\n')\n",
    "    else:\n",
    "        print('The one-tailed p_value of ' + str(p_value/2) + ' is NOT less than ' + str(alpha) + ' so the difference is not statistically significant. \\n')"
   ]
  },
  {
   "cell_type": "code",
   "execution_count": 251,
   "metadata": {},
   "outputs": [
    {
     "name": "stdout",
     "output_type": "stream",
     "text": [
      "The mean of sample_b is greater than the mean of sample_a.\n",
      "The one-tailed p_value of 6.847727925662131e-07 is less than 0.05 so the difference is statistically significant. \n",
      "\n"
     ]
    }
   ],
   "source": [
    "sample_a = no_disc_sample\n",
    "sample_b = all_disc_sample \n",
    "one_tailed_t_test(sample_b, sample_a)"
   ]
  },
  {
   "cell_type": "markdown",
   "metadata": {},
   "source": [
    "Perform t-test 100 times with different samples to check results:"
   ]
  },
  {
   "cell_type": "code",
   "execution_count": 177,
   "metadata": {},
   "outputs": [],
   "source": [
    "reject_null_count = 0\n",
    "fail_to_reject_count = 0\n",
    "for i in list(range(100)):\n",
    "    no_disc_sample = np.random.choice(all_orders_no_disc_list, sample_size_req)\n",
    "    all_disc_sample = np.random.choice(all_orders_all_disc_list, sample_size_req)\n",
    "    a, b = stats.ttest_ind(all_disc_sample, no_disc_sample)\n",
    "    if b/2 < alpha:\n",
    "        reject_null_count += 1\n",
    "    else:\n",
    "        fail_to_reject_count += 1"
   ]
  },
  {
   "cell_type": "code",
   "execution_count": 178,
   "metadata": {},
   "outputs": [
    {
     "name": "stdout",
     "output_type": "stream",
     "text": [
      "After 100 trials the null hypothesis is rejected 99 times\n"
     ]
    }
   ],
   "source": [
    "print('After 100 trials the null hypothesis is rejected ' + str(reject_null_count) + ' times')"
   ]
  },
  {
   "cell_type": "markdown",
   "metadata": {},
   "source": [
    "### Question 1 Part 1 Conclusion - There is sufficience evidence to suggest that discounts result in customers ordering a higher number of products."
   ]
  },
  {
   "cell_type": "markdown",
   "metadata": {},
   "source": [
    "## Question 1 part 2: \n",
    "## At what levels of discounts are the increases in order quantities significant?"
   ]
  },
  {
   "cell_type": "code",
   "execution_count": 179,
   "metadata": {},
   "outputs": [],
   "source": [
    "from statsmodels.stats.multicomp import pairwise_tukeyhsd\n",
    "from statsmodels.stats.multicomp import MultiComparison"
   ]
  },
  {
   "cell_type": "code",
   "execution_count": 180,
   "metadata": {},
   "outputs": [
    {
     "data": {
      "text/plain": [
       "185"
      ]
     },
     "execution_count": 180,
     "metadata": {},
     "output_type": "execute_result"
    }
   ],
   "source": [
    "disc_5 = cursor.execute('''SELECT Quantity FROM OrderDetail WHERE Discount = 0.05''').fetchall();\n",
    "disc_5_list = []\n",
    "for i in disc_5:\n",
    "    disc_5_list.append(i[0])\n",
    "len(disc_5_list)"
   ]
  },
  {
   "cell_type": "code",
   "execution_count": 181,
   "metadata": {},
   "outputs": [
    {
     "data": {
      "text/plain": [
       "173"
      ]
     },
     "execution_count": 181,
     "metadata": {},
     "output_type": "execute_result"
    }
   ],
   "source": [
    "disc_10 = cursor.execute('''SELECT Quantity FROM OrderDetail WHERE Discount = 0.10''').fetchall();\n",
    "disc_10_list = []\n",
    "for i in disc_10:\n",
    "    disc_10_list.append(i[0])\n",
    "len(disc_10_list)"
   ]
  },
  {
   "cell_type": "code",
   "execution_count": 182,
   "metadata": {},
   "outputs": [
    {
     "data": {
      "text/plain": [
       "157"
      ]
     },
     "execution_count": 182,
     "metadata": {},
     "output_type": "execute_result"
    }
   ],
   "source": [
    "disc_15 = cursor.execute('''SELECT Quantity FROM OrderDetail WHERE Discount = 0.15''').fetchall();\n",
    "disc_15_list = []\n",
    "for i in disc_15:\n",
    "    disc_15_list.append(i[0])\n",
    "len(disc_15_list)"
   ]
  },
  {
   "cell_type": "code",
   "execution_count": 183,
   "metadata": {},
   "outputs": [
    {
     "data": {
      "text/plain": [
       "161"
      ]
     },
     "execution_count": 183,
     "metadata": {},
     "output_type": "execute_result"
    }
   ],
   "source": [
    "disc_20 = cursor.execute('''SELECT Quantity FROM OrderDetail WHERE Discount = 0.20''').fetchall();\n",
    "disc_20_list = []\n",
    "for i in disc_20:\n",
    "    disc_20_list.append(i[0])\n",
    "len(disc_20_list)"
   ]
  },
  {
   "cell_type": "code",
   "execution_count": 184,
   "metadata": {},
   "outputs": [
    {
     "data": {
      "text/plain": [
       "154"
      ]
     },
     "execution_count": 184,
     "metadata": {},
     "output_type": "execute_result"
    }
   ],
   "source": [
    "disc_25 = cursor.execute('''SELECT Quantity FROM OrderDetail WHERE Discount = 0.25''').fetchall();\n",
    "disc_25_list = []\n",
    "for i in disc_25:\n",
    "    disc_25_list.append(i[0])\n",
    "len(disc_25_list)"
   ]
  },
  {
   "cell_type": "code",
   "execution_count": 185,
   "metadata": {},
   "outputs": [
    {
     "data": {
      "text/plain": [
       "1317"
      ]
     },
     "execution_count": 185,
     "metadata": {},
     "output_type": "execute_result"
    }
   ],
   "source": [
    "disc_none = cursor.execute('''SELECT Quantity FROM OrderDetail WHERE Discount = 0''').fetchall();\n",
    "disc_none_list = []\n",
    "for i in disc_none:\n",
    "    disc_none_list.append(i[0])\n",
    "len(disc_none_list)"
   ]
  },
  {
   "cell_type": "code",
   "execution_count": 186,
   "metadata": {},
   "outputs": [],
   "source": [
    "v = np.concatenate([np.array(disc_none_list), np.array(disc_5_list), np.array(disc_10_list), np.array(disc_15_list), np.array(disc_20_list), np.array(disc_25_list)])"
   ]
  },
  {
   "cell_type": "code",
   "execution_count": 187,
   "metadata": {},
   "outputs": [],
   "source": [
    "v_labels = ['no_disc_list'] * len(disc_none_list) + ['5pct'] * len(disc_5_list) + ['10pct'] * len(disc_10_list) + ['15pct'] * len(disc_15_list) + ['20pct'] * len(disc_20_list) + ['25pct'] * len(disc_25_list)"
   ]
  },
  {
   "cell_type": "markdown",
   "metadata": {},
   "source": [
    "Comparison of discount levels against all non_discounted orders (1317)"
   ]
  },
  {
   "cell_type": "code",
   "execution_count": 188,
   "metadata": {},
   "outputs": [
    {
     "name": "stdout",
     "output_type": "stream",
     "text": [
      " Multiple Comparison of Means - Tukey HSD,FWER=0.05 \n",
      "====================================================\n",
      "group1    group2    meandiff  lower    upper  reject\n",
      "----------------------------------------------------\n",
      "10pct     15pct      3.1452   -2.771   9.0613 False \n",
      "10pct     20pct      1.7879  -4.0896   7.6653 False \n",
      "10pct     25pct      3.0033   -2.943   8.9496 False \n",
      "10pct      5pct      2.7738  -2.9028   8.4504 False \n",
      "10pct  no_disc_list -3.5217  -7.8622   0.8187 False \n",
      "15pct     20pct     -1.3573  -7.3775   4.6628 False \n",
      "15pct     25pct     -0.1419  -6.2292   5.9454 False \n",
      "15pct      5pct     -0.3714  -6.1955   5.4528 False \n",
      "15pct  no_disc_list -6.6669  -11.1986 -2.1352  True \n",
      "20pct     25pct      1.2154  -4.8343   7.2652 False \n",
      "20pct      5pct      0.986   -4.7989   6.7708 False \n",
      "20pct  no_disc_list -5.3096  -9.7907  -0.8285  True \n",
      "25pct      5pct     -0.2294  -6.0842   5.6253 False \n",
      "25pct  no_disc_list  -6.525  -11.096   -1.954  True \n",
      " 5pct  no_disc_list -6.2955  -10.5097 -2.0814  True \n",
      "----------------------------------------------------\n"
     ]
    }
   ],
   "source": [
    "print(pairwise_tukeyhsd(v, v_labels, 0.05))"
   ]
  },
  {
   "cell_type": "code",
   "execution_count": 189,
   "metadata": {},
   "outputs": [
    {
     "data": {
      "image/png": "[encoded data removed]",
      "text/plain": [
       "<Figure size 720x432 with 1 Axes>"
      ]
     },
     "metadata": {},
     "output_type": "display_data"
    }
   ],
   "source": [
    "tukey_viz = MultiComparison(v, v_labels)\n",
    "results = tukey_viz.tukeyhsd(alpha=0.05)\n",
    "x = results.plot_simultaneous()"
   ]
  },
  {
   "cell_type": "markdown",
   "metadata": {},
   "source": [
    "Establish sample size required to detect the effect size at 10%."
   ]
  },
  {
   "cell_type": "code",
   "execution_count": 190,
   "metadata": {},
   "outputs": [
    {
     "data": {
      "text/plain": [
       "(25.23699421965318, 21.125181975751996)"
      ]
     },
     "execution_count": 190,
     "metadata": {},
     "output_type": "execute_result"
    }
   ],
   "source": [
    "disc_10_mean, disc_10_std = np.mean(disc_10_list), np.std(disc_10_list)\n",
    "\n",
    "disc_10_mean, disc_10_std"
   ]
  },
  {
   "cell_type": "code",
   "execution_count": 191,
   "metadata": {},
   "outputs": [],
   "source": [
    "target = 0.95\n",
    "sample_size  = 500\n",
    "current = 0\n",
    "n_sim = 800"
   ]
  },
  {
   "cell_type": "code",
   "execution_count": 192,
   "metadata": {},
   "outputs": [
    {
     "name": "stdout",
     "output_type": "stream",
     "text": [
      "Number of Samples: 500 , Calculated Power = 0.88625\n",
      "Number of Samples: 520 , Calculated Power = 0.90375\n",
      "Number of Samples: 540 , Calculated Power = 0.9125\n",
      "Number of Samples: 560 , Calculated Power = 0.925\n",
      "Number of Samples: 580 , Calculated Power = 0.91875\n",
      "Number of Samples: 600 , Calculated Power = 0.93375\n",
      "Number of Samples: 620 , Calculated Power = 0.93625\n",
      "Number of Samples: 640 , Calculated Power = 0.945\n",
      "Number of Samples: 660 , Calculated Power = 0.95375\n"
     ]
    },
    {
     "data": {
      "text/plain": [
       "[660, 0.95375]"
      ]
     },
     "execution_count": 192,
     "metadata": {},
     "output_type": "execute_result"
    }
   ],
   "source": [
    "np.random.seed(10)\n",
    "\n",
    "power_sample = [] \n",
    "\n",
    "while current < target:\n",
    "    data = np.empty([n_sim, sample_size, 2])\n",
    "    data.fill(np.nan)\n",
    "\n",
    "    # For non-discounted orders\n",
    "    data[:,:,0] = np.random.normal(loc=no_disc_mean, scale=std_dev_no_disc, size=[n_sim, sample_size])\n",
    "\n",
    "    # For 10% discounted orders\n",
    "    data[:,:,1] = np.random.normal(loc=disc_10_mean, scale=disc_10_std, size=[n_sim, sample_size])\n",
    "\n",
    "    result = stats.ttest_ind(data[:, :, 0],data[:, :, 1],axis=1)\n",
    "    p = result[1] \n",
    "    # Number of simulations where the null hypothesis was rejected\n",
    "\n",
    "    rejects = np.sum(p/2 < alpha)\n",
    "\n",
    "    # Calculate reject proportion\n",
    "\n",
    "    reject_proportion = rejects/ float(n_sim) \n",
    "    current = reject_proportion \n",
    "    print (\"Number of Samples:\", sample_size,\", Calculated Power =\", current)\n",
    "    power_sample.append([sample_size, current]) \n",
    "   \n",
    "    # increase the number of samples for the next iteration of the loop\n",
    "    sample_size += 20\n",
    "    \n",
    "power_sample[-1]"
   ]
  },
  {
   "cell_type": "markdown",
   "metadata": {},
   "source": [
    "The sample size required to detect the effect size at 10% discount is too large given the data available.\n",
    "\n",
    "How suitable are the other sample sizes (check largest effect size)."
   ]
  },
  {
   "cell_type": "code",
   "execution_count": 269,
   "metadata": {},
   "outputs": [
    {
     "data": {
      "text/plain": [
       "(28.38216560509554, 20.85635892029252)"
      ]
     },
     "execution_count": 269,
     "metadata": {},
     "output_type": "execute_result"
    }
   ],
   "source": [
    "disc_15_mean, disc_15_std = np.mean(disc_15_list), np.std(disc_15_list)\n",
    "\n",
    "disc_15_mean, disc_15_std"
   ]
  },
  {
   "cell_type": "code",
   "execution_count": 270,
   "metadata": {},
   "outputs": [],
   "source": [
    "target = 0.95\n",
    "sample_size  = 150\n",
    "current = 0\n",
    "n_sim = 800"
   ]
  },
  {
   "cell_type": "code",
   "execution_count": 271,
   "metadata": {},
   "outputs": [
    {
     "name": "stdout",
     "output_type": "stream",
     "text": [
      "Number of Samples: 150 , Calculated Power = 0.92\n",
      "Number of Samples: 170 , Calculated Power = 0.9275\n",
      "Number of Samples: 190 , Calculated Power = 0.9575\n"
     ]
    },
    {
     "data": {
      "text/plain": [
       "[190, 0.9575]"
      ]
     },
     "execution_count": 271,
     "metadata": {},
     "output_type": "execute_result"
    }
   ],
   "source": [
    "np.random.seed(10)\n",
    "\n",
    "power_sample = [] \n",
    "\n",
    "while current < target:\n",
    "    data = np.empty([n_sim, sample_size, 2])\n",
    "    data.fill(np.nan)\n",
    "\n",
    "    # For non-discounted orders\n",
    "    data[:,:,0] = np.random.normal(loc=no_disc_mean, scale=std_dev_no_disc, size=[n_sim, sample_size])\n",
    "\n",
    "    # For 10% discounted orders\n",
    "    data[:,:,1] = np.random.normal(loc=disc_15_mean, scale=disc_15_std, size=[n_sim, sample_size])\n",
    "\n",
    "    result = stats.ttest_ind(data[:, :, 0],data[:, :, 1],axis=1)\n",
    "    p = result[1] \n",
    "    # Number of simulations where the null hypothesis was rejected\n",
    "\n",
    "    rejects = np.sum(p/2 < alpha)\n",
    "\n",
    "    # Calculate reject proportion\n",
    "\n",
    "    reject_proportion = rejects/ float(n_sim) \n",
    "    current = reject_proportion \n",
    "    print (\"Number of Samples:\", sample_size,\", Calculated Power =\", current)\n",
    "    power_sample.append([sample_size, current]) \n",
    "   \n",
    "    # increase the number of samples for the next iteration of the loop\n",
    "    sample_size += 20\n",
    "    \n",
    "power_sample[-1]"
   ]
  },
  {
   "cell_type": "markdown",
   "metadata": {},
   "source": [
    "The sample sizes are not quite large enough to have 95% confidence in the results, however tjey can be assumed to be representative because they are very close to the required sample size."
   ]
  },
  {
   "cell_type": "markdown",
   "metadata": {},
   "source": [
    "### Question 1 Part 2 Conclusion - Assuming the data is representative, there is sufficience evidence to suggest that discounts result in customers ordering a higher number of products at all levels of discount except for 10%."
   ]
  },
  {
   "cell_type": "markdown",
   "metadata": {},
   "source": [
    "# Question 2:\n",
    "\n",
    "## Does the price rise on 7th April 2013 have a statistically significant effect on the number of orders placed, including both discounted and non-discounted products?"
   ]
  },
  {
   "cell_type": "markdown",
   "metadata": {},
   "source": [
    "### Null Hypothesis:\n",
    "\n",
    "The mean number of orders after the 7th April 2013 is the same as the mean number of orders before 7th April 2014.\n",
    "\n",
    "### Alternative Hypothesis\n",
    "\n",
    "The mean number of orders after the 7th April 2013 is less than the mean number of orders before 7th April 2014.\n",
    "\n",
    "\n",
    "### Type of statistical test used:\n",
    "\n",
    "One tailed t-test (less-than)\n",
    "\n",
    "### Data-set used:\n",
    "\n",
    "The order quantities at the individual product-order level, before and after 7th April 2013.  All dates and all order quantities are included, to maintain a uniform dataset across all 4 questions answered."
   ]
  },
  {
   "cell_type": "markdown",
   "metadata": {},
   "source": [
    "### How to determine 7th April 2013 as the date of a price rise:  \n",
    "\n",
    "The order date and the orderId are sequential - both are arranged in chronological order.  The sale price of each order can be compared to the 'list price' of the product as defined in the product table.  The data can be divided into two groups: one where the list price is higher than the sale price, and another where they are the same.  It is clear that the 7th of April 2013 is the point where one group ends and the next begins."
   ]
  },
  {
   "cell_type": "code",
   "execution_count": 193,
   "metadata": {},
   "outputs": [
    {
     "data": {
      "text/html": [
       "<div>\n",
       "<style scoped>\n",
       "    .dataframe tbody tr th:only-of-type {\n",
       "        vertical-align: middle;\n",
       "    }\n",
       "\n",
       "    .dataframe tbody tr th {\n",
       "        vertical-align: top;\n",
       "    }\n",
       "\n",
       "    .dataframe thead th {\n",
       "        text-align: right;\n",
       "    }\n",
       "</style>\n",
       "<table border=\"1\" class=\"dataframe\">\n",
       "  <thead>\n",
       "    <tr style=\"text-align: right;\">\n",
       "      <th></th>\n",
       "      <th>OrderId</th>\n",
       "      <th>CustomerId</th>\n",
       "      <th>EmployeeId</th>\n",
       "      <th>FirstName</th>\n",
       "      <th>Quantity</th>\n",
       "      <th>Discount</th>\n",
       "      <th>OrderDate</th>\n",
       "      <th>ProductId</th>\n",
       "      <th>ProductName</th>\n",
       "      <th>SalePrice</th>\n",
       "      <th>ListPrice</th>\n",
       "      <th>OrderBeforePriceRise</th>\n",
       "    </tr>\n",
       "  </thead>\n",
       "  <tbody>\n",
       "    <tr>\n",
       "      <th>0</th>\n",
       "      <td>10248</td>\n",
       "      <td>VINET</td>\n",
       "      <td>5</td>\n",
       "      <td>Steven</td>\n",
       "      <td>12</td>\n",
       "      <td>0.0</td>\n",
       "      <td>2012-07-04</td>\n",
       "      <td>11</td>\n",
       "      <td>Queso Cabrales</td>\n",
       "      <td>14.0</td>\n",
       "      <td>21.00</td>\n",
       "      <td>Yes</td>\n",
       "    </tr>\n",
       "    <tr>\n",
       "      <th>1</th>\n",
       "      <td>10248</td>\n",
       "      <td>VINET</td>\n",
       "      <td>5</td>\n",
       "      <td>Steven</td>\n",
       "      <td>10</td>\n",
       "      <td>0.0</td>\n",
       "      <td>2012-07-04</td>\n",
       "      <td>42</td>\n",
       "      <td>Singaporean Hokkien Fried Mee</td>\n",
       "      <td>9.8</td>\n",
       "      <td>14.00</td>\n",
       "      <td>Yes</td>\n",
       "    </tr>\n",
       "    <tr>\n",
       "      <th>2</th>\n",
       "      <td>10248</td>\n",
       "      <td>VINET</td>\n",
       "      <td>5</td>\n",
       "      <td>Steven</td>\n",
       "      <td>5</td>\n",
       "      <td>0.0</td>\n",
       "      <td>2012-07-04</td>\n",
       "      <td>72</td>\n",
       "      <td>Mozzarella di Giovanni</td>\n",
       "      <td>34.8</td>\n",
       "      <td>34.80</td>\n",
       "      <td>No</td>\n",
       "    </tr>\n",
       "    <tr>\n",
       "      <th>3</th>\n",
       "      <td>10249</td>\n",
       "      <td>TOMSP</td>\n",
       "      <td>6</td>\n",
       "      <td>Michael</td>\n",
       "      <td>9</td>\n",
       "      <td>0.0</td>\n",
       "      <td>2012-07-05</td>\n",
       "      <td>14</td>\n",
       "      <td>Tofu</td>\n",
       "      <td>18.6</td>\n",
       "      <td>23.25</td>\n",
       "      <td>Yes</td>\n",
       "    </tr>\n",
       "    <tr>\n",
       "      <th>4</th>\n",
       "      <td>10249</td>\n",
       "      <td>TOMSP</td>\n",
       "      <td>6</td>\n",
       "      <td>Michael</td>\n",
       "      <td>40</td>\n",
       "      <td>0.0</td>\n",
       "      <td>2012-07-05</td>\n",
       "      <td>51</td>\n",
       "      <td>Manjimup Dried Apples</td>\n",
       "      <td>42.4</td>\n",
       "      <td>53.00</td>\n",
       "      <td>Yes</td>\n",
       "    </tr>\n",
       "  </tbody>\n",
       "</table>\n",
       "</div>"
      ],
      "text/plain": [
       "   OrderId CustomerId  EmployeeId FirstName  Quantity  Discount   OrderDate  \\\n",
       "0    10248      VINET           5    Steven        12       0.0  2012-07-04   \n",
       "1    10248      VINET           5    Steven        10       0.0  2012-07-04   \n",
       "2    10248      VINET           5    Steven         5       0.0  2012-07-04   \n",
       "3    10249      TOMSP           6   Michael         9       0.0  2012-07-05   \n",
       "4    10249      TOMSP           6   Michael        40       0.0  2012-07-05   \n",
       "\n",
       "   ProductId                    ProductName  SalePrice  ListPrice  \\\n",
       "0         11                 Queso Cabrales       14.0      21.00   \n",
       "1         42  Singaporean Hokkien Fried Mee        9.8      14.00   \n",
       "2         72         Mozzarella di Giovanni       34.8      34.80   \n",
       "3         14                           Tofu       18.6      23.25   \n",
       "4         51          Manjimup Dried Apples       42.4      53.00   \n",
       "\n",
       "  OrderBeforePriceRise  \n",
       "0                  Yes  \n",
       "1                  Yes  \n",
       "2                   No  \n",
       "3                  Yes  \n",
       "4                  Yes  "
      ]
     },
     "execution_count": 193,
     "metadata": {},
     "output_type": "execute_result"
    }
   ],
   "source": [
    "main_df.loc[main_df['SalePrice'] == main_df['ListPrice'], 'OrderBeforePriceRise'] = 'No'\n",
    "main_df.loc[main_df['SalePrice'] != main_df['ListPrice'], 'OrderBeforePriceRise'] = 'Yes'\n",
    "main_df.head()"
   ]
  },
  {
   "cell_type": "code",
   "execution_count": 194,
   "metadata": {},
   "outputs": [],
   "source": [
    "old_prices_df = main_df.loc[main_df['OrderBeforePriceRise'] == 'Yes']\n",
    "list_prices_df = main_df.loc[main_df['OrderBeforePriceRise'] == 'No']"
   ]
  },
  {
   "cell_type": "code",
   "execution_count": 195,
   "metadata": {},
   "outputs": [
    {
     "data": {
      "text/html": [
       "<div>\n",
       "<style scoped>\n",
       "    .dataframe tbody tr th:only-of-type {\n",
       "        vertical-align: middle;\n",
       "    }\n",
       "\n",
       "    .dataframe tbody tr th {\n",
       "        vertical-align: top;\n",
       "    }\n",
       "\n",
       "    .dataframe thead th {\n",
       "        text-align: right;\n",
       "    }\n",
       "</style>\n",
       "<table border=\"1\" class=\"dataframe\">\n",
       "  <thead>\n",
       "    <tr style=\"text-align: right;\">\n",
       "      <th></th>\n",
       "      <th>OrderId</th>\n",
       "      <th>CustomerId</th>\n",
       "      <th>EmployeeId</th>\n",
       "      <th>FirstName</th>\n",
       "      <th>Quantity</th>\n",
       "      <th>Discount</th>\n",
       "      <th>OrderDate</th>\n",
       "      <th>ProductId</th>\n",
       "      <th>ProductName</th>\n",
       "      <th>SalePrice</th>\n",
       "      <th>ListPrice</th>\n",
       "      <th>OrderBeforePriceRise</th>\n",
       "    </tr>\n",
       "  </thead>\n",
       "  <tbody>\n",
       "    <tr>\n",
       "      <th>654</th>\n",
       "      <td>10495</td>\n",
       "      <td>LAUGB</td>\n",
       "      <td>3</td>\n",
       "      <td>Janet</td>\n",
       "      <td>5</td>\n",
       "      <td>0.00</td>\n",
       "      <td>2013-04-03</td>\n",
       "      <td>77</td>\n",
       "      <td>Original Frankfurter grüne Soße</td>\n",
       "      <td>10.4</td>\n",
       "      <td>13.0</td>\n",
       "      <td>Yes</td>\n",
       "    </tr>\n",
       "    <tr>\n",
       "      <th>655</th>\n",
       "      <td>10496</td>\n",
       "      <td>TRADH</td>\n",
       "      <td>7</td>\n",
       "      <td>Robert</td>\n",
       "      <td>20</td>\n",
       "      <td>0.05</td>\n",
       "      <td>2013-04-04</td>\n",
       "      <td>31</td>\n",
       "      <td>Gorgonzola Telino</td>\n",
       "      <td>10.0</td>\n",
       "      <td>12.5</td>\n",
       "      <td>Yes</td>\n",
       "    </tr>\n",
       "    <tr>\n",
       "      <th>656</th>\n",
       "      <td>10497</td>\n",
       "      <td>LEHMS</td>\n",
       "      <td>7</td>\n",
       "      <td>Robert</td>\n",
       "      <td>14</td>\n",
       "      <td>0.00</td>\n",
       "      <td>2013-04-04</td>\n",
       "      <td>56</td>\n",
       "      <td>Gnocchi di nonna Alice</td>\n",
       "      <td>30.4</td>\n",
       "      <td>38.0</td>\n",
       "      <td>Yes</td>\n",
       "    </tr>\n",
       "    <tr>\n",
       "      <th>657</th>\n",
       "      <td>10497</td>\n",
       "      <td>LEHMS</td>\n",
       "      <td>7</td>\n",
       "      <td>Robert</td>\n",
       "      <td>25</td>\n",
       "      <td>0.00</td>\n",
       "      <td>2013-04-04</td>\n",
       "      <td>72</td>\n",
       "      <td>Mozzarella di Giovanni</td>\n",
       "      <td>27.8</td>\n",
       "      <td>34.8</td>\n",
       "      <td>Yes</td>\n",
       "    </tr>\n",
       "    <tr>\n",
       "      <th>658</th>\n",
       "      <td>10497</td>\n",
       "      <td>LEHMS</td>\n",
       "      <td>7</td>\n",
       "      <td>Robert</td>\n",
       "      <td>25</td>\n",
       "      <td>0.00</td>\n",
       "      <td>2013-04-04</td>\n",
       "      <td>77</td>\n",
       "      <td>Original Frankfurter grüne Soße</td>\n",
       "      <td>10.4</td>\n",
       "      <td>13.0</td>\n",
       "      <td>Yes</td>\n",
       "    </tr>\n",
       "  </tbody>\n",
       "</table>\n",
       "</div>"
      ],
      "text/plain": [
       "     OrderId CustomerId  EmployeeId FirstName  Quantity  Discount   OrderDate  \\\n",
       "654    10495      LAUGB           3     Janet         5      0.00  2013-04-03   \n",
       "655    10496      TRADH           7    Robert        20      0.05  2013-04-04   \n",
       "656    10497      LEHMS           7    Robert        14      0.00  2013-04-04   \n",
       "657    10497      LEHMS           7    Robert        25      0.00  2013-04-04   \n",
       "658    10497      LEHMS           7    Robert        25      0.00  2013-04-04   \n",
       "\n",
       "     ProductId                      ProductName  SalePrice  ListPrice  \\\n",
       "654         77  Original Frankfurter grüne Soße       10.4       13.0   \n",
       "655         31                Gorgonzola Telino       10.0       12.5   \n",
       "656         56           Gnocchi di nonna Alice       30.4       38.0   \n",
       "657         72           Mozzarella di Giovanni       27.8       34.8   \n",
       "658         77  Original Frankfurter grüne Soße       10.4       13.0   \n",
       "\n",
       "    OrderBeforePriceRise  \n",
       "654                  Yes  \n",
       "655                  Yes  \n",
       "656                  Yes  \n",
       "657                  Yes  \n",
       "658                  Yes  "
      ]
     },
     "execution_count": 195,
     "metadata": {},
     "output_type": "execute_result"
    }
   ],
   "source": [
    "old_prices_df.tail()"
   ]
  },
  {
   "cell_type": "markdown",
   "metadata": {},
   "source": [
    "There is one order where the sale date is before April 7th 2013 but the list price and sale price are the same.  This can be regarded as a data entry error and be deleted:"
   ]
  },
  {
   "cell_type": "code",
   "execution_count": 196,
   "metadata": {},
   "outputs": [
    {
     "data": {
      "text/html": [
       "<div>\n",
       "<style scoped>\n",
       "    .dataframe tbody tr th:only-of-type {\n",
       "        vertical-align: middle;\n",
       "    }\n",
       "\n",
       "    .dataframe tbody tr th {\n",
       "        vertical-align: top;\n",
       "    }\n",
       "\n",
       "    .dataframe thead th {\n",
       "        text-align: right;\n",
       "    }\n",
       "</style>\n",
       "<table border=\"1\" class=\"dataframe\">\n",
       "  <thead>\n",
       "    <tr style=\"text-align: right;\">\n",
       "      <th></th>\n",
       "      <th>OrderId</th>\n",
       "      <th>CustomerId</th>\n",
       "      <th>EmployeeId</th>\n",
       "      <th>FirstName</th>\n",
       "      <th>Quantity</th>\n",
       "      <th>Discount</th>\n",
       "      <th>OrderDate</th>\n",
       "      <th>ProductId</th>\n",
       "      <th>ProductName</th>\n",
       "      <th>SalePrice</th>\n",
       "      <th>ListPrice</th>\n",
       "      <th>OrderBeforePriceRise</th>\n",
       "    </tr>\n",
       "  </thead>\n",
       "  <tbody>\n",
       "    <tr>\n",
       "      <th>2</th>\n",
       "      <td>10248</td>\n",
       "      <td>VINET</td>\n",
       "      <td>5</td>\n",
       "      <td>Steven</td>\n",
       "      <td>5</td>\n",
       "      <td>0.0</td>\n",
       "      <td>2012-07-04</td>\n",
       "      <td>72</td>\n",
       "      <td>Mozzarella di Giovanni</td>\n",
       "      <td>34.8</td>\n",
       "      <td>34.8</td>\n",
       "      <td>No</td>\n",
       "    </tr>\n",
       "    <tr>\n",
       "      <th>659</th>\n",
       "      <td>10498</td>\n",
       "      <td>HILAA</td>\n",
       "      <td>8</td>\n",
       "      <td>Laura</td>\n",
       "      <td>14</td>\n",
       "      <td>0.0</td>\n",
       "      <td>2013-04-07</td>\n",
       "      <td>24</td>\n",
       "      <td>Guaraná Fantástica</td>\n",
       "      <td>4.5</td>\n",
       "      <td>4.5</td>\n",
       "      <td>No</td>\n",
       "    </tr>\n",
       "    <tr>\n",
       "      <th>660</th>\n",
       "      <td>10498</td>\n",
       "      <td>HILAA</td>\n",
       "      <td>8</td>\n",
       "      <td>Laura</td>\n",
       "      <td>5</td>\n",
       "      <td>0.0</td>\n",
       "      <td>2013-04-07</td>\n",
       "      <td>40</td>\n",
       "      <td>Boston Crab Meat</td>\n",
       "      <td>18.4</td>\n",
       "      <td>18.4</td>\n",
       "      <td>No</td>\n",
       "    </tr>\n",
       "    <tr>\n",
       "      <th>661</th>\n",
       "      <td>10498</td>\n",
       "      <td>HILAA</td>\n",
       "      <td>8</td>\n",
       "      <td>Laura</td>\n",
       "      <td>30</td>\n",
       "      <td>0.0</td>\n",
       "      <td>2013-04-07</td>\n",
       "      <td>42</td>\n",
       "      <td>Singaporean Hokkien Fried Mee</td>\n",
       "      <td>14.0</td>\n",
       "      <td>14.0</td>\n",
       "      <td>No</td>\n",
       "    </tr>\n",
       "    <tr>\n",
       "      <th>662</th>\n",
       "      <td>10499</td>\n",
       "      <td>LILAS</td>\n",
       "      <td>4</td>\n",
       "      <td>Margaret</td>\n",
       "      <td>20</td>\n",
       "      <td>0.0</td>\n",
       "      <td>2013-04-08</td>\n",
       "      <td>28</td>\n",
       "      <td>Rössle Sauerkraut</td>\n",
       "      <td>45.6</td>\n",
       "      <td>45.6</td>\n",
       "      <td>No</td>\n",
       "    </tr>\n",
       "  </tbody>\n",
       "</table>\n",
       "</div>"
      ],
      "text/plain": [
       "     OrderId CustomerId  EmployeeId FirstName  Quantity  Discount   OrderDate  \\\n",
       "2      10248      VINET           5    Steven         5       0.0  2012-07-04   \n",
       "659    10498      HILAA           8     Laura        14       0.0  2013-04-07   \n",
       "660    10498      HILAA           8     Laura         5       0.0  2013-04-07   \n",
       "661    10498      HILAA           8     Laura        30       0.0  2013-04-07   \n",
       "662    10499      LILAS           4  Margaret        20       0.0  2013-04-08   \n",
       "\n",
       "     ProductId                    ProductName  SalePrice  ListPrice  \\\n",
       "2           72         Mozzarella di Giovanni       34.8       34.8   \n",
       "659         24             Guaraná Fantástica        4.5        4.5   \n",
       "660         40               Boston Crab Meat       18.4       18.4   \n",
       "661         42  Singaporean Hokkien Fried Mee       14.0       14.0   \n",
       "662         28              Rössle Sauerkraut       45.6       45.6   \n",
       "\n",
       "    OrderBeforePriceRise  \n",
       "2                     No  \n",
       "659                   No  \n",
       "660                   No  \n",
       "661                   No  \n",
       "662                   No  "
      ]
     },
     "execution_count": 196,
     "metadata": {},
     "output_type": "execute_result"
    }
   ],
   "source": [
    "list_prices_df.head()"
   ]
  },
  {
   "cell_type": "code",
   "execution_count": 197,
   "metadata": {},
   "outputs": [
    {
     "data": {
      "text/html": [
       "<div>\n",
       "<style scoped>\n",
       "    .dataframe tbody tr th:only-of-type {\n",
       "        vertical-align: middle;\n",
       "    }\n",
       "\n",
       "    .dataframe tbody tr th {\n",
       "        vertical-align: top;\n",
       "    }\n",
       "\n",
       "    .dataframe thead th {\n",
       "        text-align: right;\n",
       "    }\n",
       "</style>\n",
       "<table border=\"1\" class=\"dataframe\">\n",
       "  <thead>\n",
       "    <tr style=\"text-align: right;\">\n",
       "      <th></th>\n",
       "      <th>OrderId</th>\n",
       "      <th>CustomerId</th>\n",
       "      <th>EmployeeId</th>\n",
       "      <th>FirstName</th>\n",
       "      <th>Quantity</th>\n",
       "      <th>Discount</th>\n",
       "      <th>OrderDate</th>\n",
       "      <th>ProductId</th>\n",
       "      <th>ProductName</th>\n",
       "      <th>SalePrice</th>\n",
       "      <th>ListPrice</th>\n",
       "      <th>OrderBeforePriceRise</th>\n",
       "    </tr>\n",
       "  </thead>\n",
       "  <tbody>\n",
       "    <tr>\n",
       "      <th>659</th>\n",
       "      <td>10498</td>\n",
       "      <td>HILAA</td>\n",
       "      <td>8</td>\n",
       "      <td>Laura</td>\n",
       "      <td>14</td>\n",
       "      <td>0.0</td>\n",
       "      <td>2013-04-07</td>\n",
       "      <td>24</td>\n",
       "      <td>Guaraná Fantástica</td>\n",
       "      <td>4.5</td>\n",
       "      <td>4.5</td>\n",
       "      <td>No</td>\n",
       "    </tr>\n",
       "    <tr>\n",
       "      <th>660</th>\n",
       "      <td>10498</td>\n",
       "      <td>HILAA</td>\n",
       "      <td>8</td>\n",
       "      <td>Laura</td>\n",
       "      <td>5</td>\n",
       "      <td>0.0</td>\n",
       "      <td>2013-04-07</td>\n",
       "      <td>40</td>\n",
       "      <td>Boston Crab Meat</td>\n",
       "      <td>18.4</td>\n",
       "      <td>18.4</td>\n",
       "      <td>No</td>\n",
       "    </tr>\n",
       "    <tr>\n",
       "      <th>661</th>\n",
       "      <td>10498</td>\n",
       "      <td>HILAA</td>\n",
       "      <td>8</td>\n",
       "      <td>Laura</td>\n",
       "      <td>30</td>\n",
       "      <td>0.0</td>\n",
       "      <td>2013-04-07</td>\n",
       "      <td>42</td>\n",
       "      <td>Singaporean Hokkien Fried Mee</td>\n",
       "      <td>14.0</td>\n",
       "      <td>14.0</td>\n",
       "      <td>No</td>\n",
       "    </tr>\n",
       "    <tr>\n",
       "      <th>662</th>\n",
       "      <td>10499</td>\n",
       "      <td>LILAS</td>\n",
       "      <td>4</td>\n",
       "      <td>Margaret</td>\n",
       "      <td>20</td>\n",
       "      <td>0.0</td>\n",
       "      <td>2013-04-08</td>\n",
       "      <td>28</td>\n",
       "      <td>Rössle Sauerkraut</td>\n",
       "      <td>45.6</td>\n",
       "      <td>45.6</td>\n",
       "      <td>No</td>\n",
       "    </tr>\n",
       "    <tr>\n",
       "      <th>663</th>\n",
       "      <td>10499</td>\n",
       "      <td>LILAS</td>\n",
       "      <td>4</td>\n",
       "      <td>Margaret</td>\n",
       "      <td>25</td>\n",
       "      <td>0.0</td>\n",
       "      <td>2013-04-08</td>\n",
       "      <td>49</td>\n",
       "      <td>Maxilaku</td>\n",
       "      <td>20.0</td>\n",
       "      <td>20.0</td>\n",
       "      <td>No</td>\n",
       "    </tr>\n",
       "  </tbody>\n",
       "</table>\n",
       "</div>"
      ],
      "text/plain": [
       "     OrderId CustomerId  EmployeeId FirstName  Quantity  Discount   OrderDate  \\\n",
       "659    10498      HILAA           8     Laura        14       0.0  2013-04-07   \n",
       "660    10498      HILAA           8     Laura         5       0.0  2013-04-07   \n",
       "661    10498      HILAA           8     Laura        30       0.0  2013-04-07   \n",
       "662    10499      LILAS           4  Margaret        20       0.0  2013-04-08   \n",
       "663    10499      LILAS           4  Margaret        25       0.0  2013-04-08   \n",
       "\n",
       "     ProductId                    ProductName  SalePrice  ListPrice  \\\n",
       "659         24             Guaraná Fantástica        4.5        4.5   \n",
       "660         40               Boston Crab Meat       18.4       18.4   \n",
       "661         42  Singaporean Hokkien Fried Mee       14.0       14.0   \n",
       "662         28              Rössle Sauerkraut       45.6       45.6   \n",
       "663         49                       Maxilaku       20.0       20.0   \n",
       "\n",
       "    OrderBeforePriceRise  \n",
       "659                   No  \n",
       "660                   No  \n",
       "661                   No  \n",
       "662                   No  \n",
       "663                   No  "
      ]
     },
     "execution_count": 197,
     "metadata": {},
     "output_type": "execute_result"
    }
   ],
   "source": [
    "list_prices_df_adj = list_prices_df.drop(index = 2)\n",
    "list_prices_df_adj.head()"
   ]
  },
  {
   "cell_type": "markdown",
   "metadata": {},
   "source": [
    "## Power simulation for question 2\n",
    "\n",
    "What sample size is required to detect the difference between the mean order quantity before and after price rise?"
   ]
  },
  {
   "cell_type": "code",
   "execution_count": 198,
   "metadata": {
    "scrolled": true
   },
   "outputs": [
    {
     "data": {
      "text/plain": [
       "(24.533434650455927, 18.24139522912545)"
      ]
     },
     "execution_count": 198,
     "metadata": {},
     "output_type": "execute_result"
    }
   ],
   "source": [
    "old_prices_mean, old_prices_std = old_prices_df.Quantity.mean(), old_prices_df.Quantity.std()\n",
    "old_prices_mean, old_prices_std"
   ]
  },
  {
   "cell_type": "code",
   "execution_count": 199,
   "metadata": {},
   "outputs": [
    {
     "data": {
      "text/plain": [
       "(23.625672043010752, 19.339088287598575)"
      ]
     },
     "execution_count": 199,
     "metadata": {},
     "output_type": "execute_result"
    }
   ],
   "source": [
    "list_price_mean, list_price_std = list_prices_df_adj.Quantity.mean(), list_prices_df_adj.Quantity.std()\n",
    "\n",
    "list_price_mean, list_price_std"
   ]
  },
  {
   "cell_type": "code",
   "execution_count": 200,
   "metadata": {},
   "outputs": [],
   "source": [
    "target = 0.95\n",
    "sample_size  = 7000\n",
    "current = 0\n",
    "n_sim = 800"
   ]
  },
  {
   "cell_type": "code",
   "execution_count": 201,
   "metadata": {},
   "outputs": [
    {
     "name": "stdout",
     "output_type": "stream",
     "text": [
      "Number of Samples: 7000 , Calculated Power = 0.87375\n",
      "Number of Samples: 7500 , Calculated Power = 0.90875\n",
      "Number of Samples: 8000 , Calculated Power = 0.92\n",
      "Number of Samples: 8500 , Calculated Power = 0.92875\n",
      "Number of Samples: 9000 , Calculated Power = 0.9425\n",
      "Number of Samples: 9500 , Calculated Power = 0.9475\n",
      "Number of Samples: 10000 , Calculated Power = 0.96625\n"
     ]
    },
    {
     "data": {
      "text/plain": [
       "[10000, 0.96625]"
      ]
     },
     "execution_count": 201,
     "metadata": {},
     "output_type": "execute_result"
    }
   ],
   "source": [
    "np.random.seed(10)\n",
    "\n",
    "power_sample = [] \n",
    "\n",
    "while current < target:\n",
    "    data = np.empty([n_sim, sample_size, 2])\n",
    "    data.fill(np.nan)\n",
    "\n",
    "    # For non-discounted orders\n",
    "    data[:,:,0] = np.random.normal(loc=old_prices_mean, scale=old_prices_std, size=[n_sim, sample_size])\n",
    "    \n",
    "    # For discounted orders\n",
    "    data[:,:,1] = np.random.normal(loc=list_price_mean, scale=list_price_std, size=[n_sim, sample_size])\n",
    "\n",
    "    result = stats.ttest_ind(data[:, :, 0],data[:, :, 1],axis=1)\n",
    "    p = result[1] \n",
    "    # Number of simulations where the null hypothesis was rejected\n",
    "\n",
    "    rejects = np.sum(p/2 < alpha)\n",
    "\n",
    "    # Calculate reject proportion\n",
    "\n",
    "    reject_proportion = rejects/ float(n_sim) \n",
    "    current = reject_proportion \n",
    "    print (\"Number of Samples:\", sample_size,\", Calculated Power =\", current)\n",
    "    power_sample.append([sample_size, current]) \n",
    "   \n",
    "    # increase the number of samples for the next iteration of the loop\n",
    "    sample_size += 500\n",
    "    \n",
    "power_sample[-1]"
   ]
  },
  {
   "cell_type": "markdown",
   "metadata": {},
   "source": [
    "The available sample sizes are too small to confidently detect the difference between the two means. \n",
    "\n",
    "However, the t-test can calculated using all available data:"
   ]
  },
  {
   "cell_type": "code",
   "execution_count": 202,
   "metadata": {},
   "outputs": [
    {
     "name": "stdout",
     "output_type": "stream",
     "text": [
      "658\n",
      "1488\n"
     ]
    }
   ],
   "source": [
    "qnty_before_price_rise = list(old_prices_df.Quantity)\n",
    "qnty_after_price_rise = list(list_prices_df_adj.Quantity)\n",
    "print(len(qnty_before_price_rise))\n",
    "print(len(qnty_after_price_rise))"
   ]
  },
  {
   "cell_type": "code",
   "execution_count": 259,
   "metadata": {},
   "outputs": [
    {
     "data": {
      "image/png": "[encoded data removed]",
      "text/plain": [
       "<Figure size 1008x576 with 1 Axes>"
      ]
     },
     "metadata": {},
     "output_type": "display_data"
    }
   ],
   "source": [
    "sns.set(color_codes=True)\n",
    "sns.set(rc={'figure.figsize':(14,8)})\n",
    "\n",
    "fig = sns.distplot(qnty_before_price_rise)\n",
    "fig = sns.distplot(qnty_after_price_rise)\n",
    "plt.xlabel(\"Order Quantities\")\n",
    "plt.title(\"DISTRIBUTION OF ORDERS BEFORE AND AFTER PRICE RISE (AFTER IN BLUE)\");"
   ]
  },
  {
   "cell_type": "code",
   "execution_count": 204,
   "metadata": {},
   "outputs": [
    {
     "name": "stdout",
     "output_type": "stream",
     "text": [
      "The mean of sample_b is lower than the mean of sample_a.\n",
      "The one-tailed p_value of 0.15392061541637697 is NOT less than 0.05 so the difference is not statistically significant. \n",
      "\n"
     ]
    }
   ],
   "source": [
    "sample_a = qnty_before_price_rise\n",
    "sample_b = qnty_after_price_rise\n",
    "one_tailed_t_test(sample_b, sample_a)"
   ]
  },
  {
   "cell_type": "markdown",
   "metadata": {},
   "source": [
    "### Question 2 Conclusion - There is not sufficient evidence to suggest that the price rise on 7th April 2014 resulted in customers placing orders of smaller quantities."
   ]
  },
  {
   "cell_type": "markdown",
   "metadata": {},
   "source": [
    "## Question 3 Does the sales person have a statistically significant effect on the number of products ordered?"
   ]
  },
  {
   "cell_type": "markdown",
   "metadata": {},
   "source": [
    "### Null Hypothesis:\n",
    "\n",
    "The mean number of products ordered per order is the same for each salesperson.\n",
    "\n",
    "### Alternative Hypothesis\n",
    "\n",
    "The mean number of products ordered per order is different for each salesperson.\n",
    "\n",
    "### Type of statistical test used:\n",
    "\n",
    "Tukeys comparison of means\n",
    "\n",
    "### Data-set used:\n",
    "\n",
    "The order quantities at the individual product-order level, for each salesperson.  All dates and all order quantities are included, to maintain a uniform dataset across all 4 questions answered."
   ]
  },
  {
   "cell_type": "markdown",
   "metadata": {},
   "source": [
    "Match employee Names to EmployeeIds"
   ]
  },
  {
   "cell_type": "code",
   "execution_count": 205,
   "metadata": {},
   "outputs": [
    {
     "data": {
      "text/html": [
       "<div>\n",
       "<style scoped>\n",
       "    .dataframe tbody tr th:only-of-type {\n",
       "        vertical-align: middle;\n",
       "    }\n",
       "\n",
       "    .dataframe tbody tr th {\n",
       "        vertical-align: top;\n",
       "    }\n",
       "\n",
       "    .dataframe thead th {\n",
       "        text-align: right;\n",
       "    }\n",
       "</style>\n",
       "<table border=\"1\" class=\"dataframe\">\n",
       "  <thead>\n",
       "    <tr style=\"text-align: right;\">\n",
       "      <th></th>\n",
       "      <th>Id</th>\n",
       "    </tr>\n",
       "    <tr>\n",
       "      <th>FirstName</th>\n",
       "      <th></th>\n",
       "    </tr>\n",
       "  </thead>\n",
       "  <tbody>\n",
       "    <tr>\n",
       "      <th>Nancy</th>\n",
       "      <td>1</td>\n",
       "    </tr>\n",
       "    <tr>\n",
       "      <th>Andrew</th>\n",
       "      <td>2</td>\n",
       "    </tr>\n",
       "    <tr>\n",
       "      <th>Janet</th>\n",
       "      <td>3</td>\n",
       "    </tr>\n",
       "    <tr>\n",
       "      <th>Margaret</th>\n",
       "      <td>4</td>\n",
       "    </tr>\n",
       "    <tr>\n",
       "      <th>Steven</th>\n",
       "      <td>5</td>\n",
       "    </tr>\n",
       "    <tr>\n",
       "      <th>Michael</th>\n",
       "      <td>6</td>\n",
       "    </tr>\n",
       "    <tr>\n",
       "      <th>Robert</th>\n",
       "      <td>7</td>\n",
       "    </tr>\n",
       "    <tr>\n",
       "      <th>Laura</th>\n",
       "      <td>8</td>\n",
       "    </tr>\n",
       "    <tr>\n",
       "      <th>Anne</th>\n",
       "      <td>9</td>\n",
       "    </tr>\n",
       "  </tbody>\n",
       "</table>\n",
       "</div>"
      ],
      "text/plain": [
       "           Id\n",
       "FirstName    \n",
       "Nancy       1\n",
       "Andrew      2\n",
       "Janet       3\n",
       "Margaret    4\n",
       "Steven      5\n",
       "Michael     6\n",
       "Robert      7\n",
       "Laura       8\n",
       "Anne        9"
      ]
     },
     "execution_count": 205,
     "metadata": {},
     "output_type": "execute_result"
    }
   ],
   "source": [
    "a = employee_df.groupby('FirstName').min()[['Id']]\n",
    "a.sort_values(by=['Id'])"
   ]
  },
  {
   "cell_type": "code",
   "execution_count": 206,
   "metadata": {},
   "outputs": [
    {
     "data": {
      "text/html": [
       "<div>\n",
       "<style scoped>\n",
       "    .dataframe tbody tr th:only-of-type {\n",
       "        vertical-align: middle;\n",
       "    }\n",
       "\n",
       "    .dataframe tbody tr th {\n",
       "        vertical-align: top;\n",
       "    }\n",
       "\n",
       "    .dataframe thead th {\n",
       "        text-align: right;\n",
       "    }\n",
       "</style>\n",
       "<table border=\"1\" class=\"dataframe\">\n",
       "  <thead>\n",
       "    <tr style=\"text-align: right;\">\n",
       "      <th></th>\n",
       "      <th>Quantity</th>\n",
       "    </tr>\n",
       "    <tr>\n",
       "      <th>FirstName</th>\n",
       "      <th></th>\n",
       "    </tr>\n",
       "  </thead>\n",
       "  <tbody>\n",
       "    <tr>\n",
       "      <th>Andrew</th>\n",
       "      <td>241</td>\n",
       "    </tr>\n",
       "    <tr>\n",
       "      <th>Anne</th>\n",
       "      <td>107</td>\n",
       "    </tr>\n",
       "    <tr>\n",
       "      <th>Janet</th>\n",
       "      <td>321</td>\n",
       "    </tr>\n",
       "    <tr>\n",
       "      <th>Laura</th>\n",
       "      <td>260</td>\n",
       "    </tr>\n",
       "    <tr>\n",
       "      <th>Margaret</th>\n",
       "      <td>420</td>\n",
       "    </tr>\n",
       "    <tr>\n",
       "      <th>Michael</th>\n",
       "      <td>168</td>\n",
       "    </tr>\n",
       "    <tr>\n",
       "      <th>Nancy</th>\n",
       "      <td>337</td>\n",
       "    </tr>\n",
       "    <tr>\n",
       "      <th>Robert</th>\n",
       "      <td>176</td>\n",
       "    </tr>\n",
       "    <tr>\n",
       "      <th>Steven</th>\n",
       "      <td>117</td>\n",
       "    </tr>\n",
       "  </tbody>\n",
       "</table>\n",
       "</div>"
      ],
      "text/plain": [
       "           Quantity\n",
       "FirstName          \n",
       "Andrew          241\n",
       "Anne            107\n",
       "Janet           321\n",
       "Laura           260\n",
       "Margaret        420\n",
       "Michael         168\n",
       "Nancy           337\n",
       "Robert          176\n",
       "Steven          117"
      ]
     },
     "execution_count": 206,
     "metadata": {},
     "output_type": "execute_result"
    }
   ],
   "source": [
    "employee_sales_df = main_df.groupby('FirstName').count()[['Quantity']]\n",
    "employee_sales_df"
   ]
  },
  {
   "cell_type": "code",
   "execution_count": 207,
   "metadata": {},
   "outputs": [],
   "source": [
    "sales_lists = []"
   ]
  },
  {
   "cell_type": "markdown",
   "metadata": {},
   "source": [
    "Build a list of sales lists in order of employee ID:"
   ]
  },
  {
   "cell_type": "code",
   "execution_count": 208,
   "metadata": {},
   "outputs": [
    {
     "data": {
      "text/plain": [
       "(337, 1)"
      ]
     },
     "execution_count": 208,
     "metadata": {},
     "output_type": "execute_result"
    }
   ],
   "source": [
    "nancy = cursor.execute('''\n",
    "SELECT [OrderDetail].Quantity\n",
    "FROM [OrderDetail]\n",
    "JOIN [Orders]\n",
    "ON [OrderDetail].OrderId = [Orders].Id\n",
    "JOIN [Employee]\n",
    "ON [Orders].EmployeeId = [Employee].Id\n",
    "WHERE Orders.EmployeeId = 1 ;\n",
    "''').fetchall();\n",
    "\n",
    "nancy_list = []\n",
    "for i in nancy:\n",
    "    nancy_list.append(i[0])\n",
    "\n",
    "sales_lists.append(nancy_list)\n",
    "    \n",
    "len(nancy_list), len(sales_lists)"
   ]
  },
  {
   "cell_type": "code",
   "execution_count": 209,
   "metadata": {},
   "outputs": [
    {
     "data": {
      "text/plain": [
       "(241, 2)"
      ]
     },
     "execution_count": 209,
     "metadata": {},
     "output_type": "execute_result"
    }
   ],
   "source": [
    "andrew = cursor.execute('''\n",
    "SELECT [OrderDetail].Quantity\n",
    "FROM [OrderDetail]\n",
    "JOIN [Orders]\n",
    "ON [OrderDetail].OrderId = [Orders].Id\n",
    "JOIN [Employee]\n",
    "ON [Orders].EmployeeId = [Employee].Id\n",
    "WHERE Orders.EmployeeId = 2 ;\n",
    "''').fetchall();\n",
    "\n",
    "andrew_list = []\n",
    "for i in andrew:\n",
    "    andrew_list.append(i[0])\n",
    "\n",
    "sales_lists.append(andrew_list)\n",
    "    \n",
    "len(andrew_list), len(sales_lists)"
   ]
  },
  {
   "cell_type": "code",
   "execution_count": 210,
   "metadata": {},
   "outputs": [
    {
     "data": {
      "text/plain": [
       "(321, 3)"
      ]
     },
     "execution_count": 210,
     "metadata": {},
     "output_type": "execute_result"
    }
   ],
   "source": [
    "janet = cursor.execute('''\n",
    "SELECT [OrderDetail].Quantity\n",
    "FROM [OrderDetail]\n",
    "JOIN [Orders]\n",
    "ON [OrderDetail].OrderId = [Orders].Id\n",
    "JOIN [Employee]\n",
    "ON [Orders].EmployeeId = [Employee].Id\n",
    "WHERE Orders.EmployeeId = 3 ;\n",
    "''').fetchall();\n",
    "\n",
    "janet_list = []\n",
    "for i in janet:\n",
    "    janet_list.append(i[0])\n",
    "\n",
    "sales_lists.append(janet_list)\n",
    "    \n",
    "len(janet_list), len(sales_lists)"
   ]
  },
  {
   "cell_type": "code",
   "execution_count": 211,
   "metadata": {},
   "outputs": [
    {
     "data": {
      "text/plain": [
       "(420, 4)"
      ]
     },
     "execution_count": 211,
     "metadata": {},
     "output_type": "execute_result"
    }
   ],
   "source": [
    "margaret = cursor.execute('''\n",
    "SELECT [OrderDetail].Quantity\n",
    "FROM [OrderDetail]\n",
    "JOIN [Orders]\n",
    "ON [OrderDetail].OrderId = [Orders].Id\n",
    "JOIN [Employee]\n",
    "ON [Orders].EmployeeId = [Employee].Id\n",
    "WHERE Orders.EmployeeId = 4 ;\n",
    "''').fetchall();\n",
    "\n",
    "margaret_list = []\n",
    "for i in margaret:\n",
    "    margaret_list.append(i[0])\n",
    "\n",
    "sales_lists.append(margaret_list)\n",
    "    \n",
    "len(margaret_list), len(sales_lists)"
   ]
  },
  {
   "cell_type": "code",
   "execution_count": 212,
   "metadata": {},
   "outputs": [
    {
     "data": {
      "text/plain": [
       "(117, 5)"
      ]
     },
     "execution_count": 212,
     "metadata": {},
     "output_type": "execute_result"
    }
   ],
   "source": [
    "steven = cursor.execute('''\n",
    "SELECT [OrderDetail].Quantity\n",
    "FROM [OrderDetail]\n",
    "JOIN [Orders]\n",
    "ON [OrderDetail].OrderId = [Orders].Id\n",
    "JOIN [Employee]\n",
    "ON [Orders].EmployeeId = [Employee].Id\n",
    "WHERE Orders.EmployeeId = 5 ;\n",
    "''').fetchall();\n",
    "\n",
    "steven_list = []\n",
    "for i in steven:\n",
    "    steven_list.append(i[0])\n",
    "\n",
    "sales_lists.append(steven_list)\n",
    "    \n",
    "len(steven_list), len(sales_lists)"
   ]
  },
  {
   "cell_type": "code",
   "execution_count": 213,
   "metadata": {},
   "outputs": [
    {
     "data": {
      "text/plain": [
       "(168, 6)"
      ]
     },
     "execution_count": 213,
     "metadata": {},
     "output_type": "execute_result"
    }
   ],
   "source": [
    "michael = cursor.execute('''\n",
    "SELECT [OrderDetail].Quantity\n",
    "FROM [OrderDetail]\n",
    "JOIN [Orders]\n",
    "ON [OrderDetail].OrderId = [Orders].Id\n",
    "JOIN [Employee]\n",
    "ON [Orders].EmployeeId = [Employee].Id\n",
    "WHERE Orders.EmployeeId = 6 ;\n",
    "''').fetchall();\n",
    "\n",
    "michael_list = []\n",
    "for i in michael:\n",
    "    michael_list.append(i[0])\n",
    "\n",
    "sales_lists.append(michael_list)\n",
    "    \n",
    "len(michael_list), len(sales_lists)"
   ]
  },
  {
   "cell_type": "code",
   "execution_count": 214,
   "metadata": {},
   "outputs": [
    {
     "data": {
      "text/plain": [
       "(176, 7)"
      ]
     },
     "execution_count": 214,
     "metadata": {},
     "output_type": "execute_result"
    }
   ],
   "source": [
    "robert = cursor.execute('''\n",
    "SELECT [OrderDetail].Quantity\n",
    "FROM [OrderDetail]\n",
    "JOIN [Orders]\n",
    "ON [OrderDetail].OrderId = [Orders].Id\n",
    "JOIN [Employee]\n",
    "ON [Orders].EmployeeId = [Employee].Id\n",
    "WHERE Orders.EmployeeId = 7 ;\n",
    "''').fetchall();\n",
    "\n",
    "robert_list = []\n",
    "for i in robert:\n",
    "    robert_list.append(i[0])\n",
    "\n",
    "sales_lists.append(robert_list)\n",
    "    \n",
    "len(robert_list), len(sales_lists)"
   ]
  },
  {
   "cell_type": "code",
   "execution_count": 215,
   "metadata": {},
   "outputs": [
    {
     "data": {
      "text/plain": [
       "(260, 8)"
      ]
     },
     "execution_count": 215,
     "metadata": {},
     "output_type": "execute_result"
    }
   ],
   "source": [
    "laura = cursor.execute('''\n",
    "SELECT [OrderDetail].Quantity\n",
    "FROM [OrderDetail]\n",
    "JOIN [Orders]\n",
    "ON [OrderDetail].OrderId = [Orders].Id\n",
    "JOIN [Employee]\n",
    "ON [Orders].EmployeeId = [Employee].Id\n",
    "WHERE Orders.EmployeeId = 8 ;\n",
    "''').fetchall();\n",
    "\n",
    "laura_list = []\n",
    "for i in laura:\n",
    "    laura_list.append(i[0])\n",
    "\n",
    "sales_lists.append(laura_list)\n",
    "    \n",
    "len(laura_list), len(sales_lists)"
   ]
  },
  {
   "cell_type": "code",
   "execution_count": 216,
   "metadata": {},
   "outputs": [
    {
     "data": {
      "text/plain": [
       "(107, 9)"
      ]
     },
     "execution_count": 216,
     "metadata": {},
     "output_type": "execute_result"
    }
   ],
   "source": [
    "anne = cursor.execute('''\n",
    "SELECT [OrderDetail].Quantity\n",
    "FROM [OrderDetail]\n",
    "JOIN [Orders]\n",
    "ON [OrderDetail].OrderId = [Orders].Id\n",
    "JOIN [Employee]\n",
    "ON [Orders].EmployeeId = [Employee].Id\n",
    "WHERE Orders.EmployeeId = 9 ;\n",
    "''').fetchall();\n",
    "\n",
    "anne_list = []\n",
    "for i in anne:\n",
    "    anne_list.append(i[0])\n",
    "\n",
    "sales_lists.append(anne_list)\n",
    "    \n",
    "len(anne_list), len(sales_lists)"
   ]
  },
  {
   "cell_type": "code",
   "execution_count": 217,
   "metadata": {},
   "outputs": [
    {
     "data": {
      "image/png": "[encoded data removed]",
      "text/plain": [
       "<Figure size 1008x576 with 1 Axes>"
      ]
     },
     "metadata": {},
     "output_type": "display_data"
    }
   ],
   "source": [
    "sns.set(color_codes=True)\n",
    "sns.set(rc={'figure.figsize':(14,8)})\n",
    "\n",
    "fig = sns.distplot(sales_lists[0])\n",
    "fig = sns.distplot(sales_lists[1])\n",
    "fig = sns.distplot(sales_lists[2])\n",
    "fig = sns.distplot(sales_lists[3])\n",
    "fig = sns.distplot(sales_lists[4])\n",
    "fig = sns.distplot(sales_lists[5])\n",
    "fig = sns.distplot(sales_lists[6])\n",
    "fig = sns.distplot(sales_lists[7])\n",
    "fig = sns.distplot(sales_lists[8])\n",
    "plt.xlabel(\"Order Quantities\")\n",
    "plt.title(\"Distributions of order quantities by Salesperson\");"
   ]
  },
  {
   "cell_type": "code",
   "execution_count": 218,
   "metadata": {},
   "outputs": [
    {
     "data": {
      "text/plain": [
       "['Nancy',\n",
       " 'Andrew',\n",
       " 'Janet',\n",
       " 'Margaret',\n",
       " 'Steven',\n",
       " 'Michael',\n",
       " 'Robert',\n",
       " 'Laura',\n",
       " 'Anne']"
      ]
     },
     "execution_count": 218,
     "metadata": {},
     "output_type": "execute_result"
    }
   ],
   "source": [
    "list_of_names = []\n",
    "\n",
    "a = employee_df.groupby('FirstName').min()[['Id']]\n",
    "b = a.sort_values(by=['Id'])\n",
    "for i in b.index:\n",
    "    list_of_names.append(i)\n",
    "    \n",
    "list_of_names"
   ]
  },
  {
   "cell_type": "code",
   "execution_count": 219,
   "metadata": {},
   "outputs": [],
   "source": [
    "dict_of_sales = {}\n",
    "\n",
    "for i in list(range(len(list_of_names))):\n",
    "    dict_of_sales[list_of_names[i]] = len(sales_lists[i])"
   ]
  },
  {
   "cell_type": "code",
   "execution_count": 220,
   "metadata": {},
   "outputs": [
    {
     "data": {
      "text/plain": [
       "{'Nancy': 337,\n",
       " 'Andrew': 241,\n",
       " 'Janet': 321,\n",
       " 'Margaret': 420,\n",
       " 'Steven': 117,\n",
       " 'Michael': 168,\n",
       " 'Robert': 176,\n",
       " 'Laura': 260,\n",
       " 'Anne': 107}"
      ]
     },
     "execution_count": 220,
     "metadata": {},
     "output_type": "execute_result"
    }
   ],
   "source": [
    "dict_of_sales"
   ]
  },
  {
   "cell_type": "code",
   "execution_count": 221,
   "metadata": {},
   "outputs": [],
   "source": [
    "x = np.concatenate(sales_lists)"
   ]
  },
  {
   "cell_type": "code",
   "execution_count": 222,
   "metadata": {},
   "outputs": [],
   "source": [
    "x_labels = ['Nancy'] * len(sales_lists[0]) + ['Andrew'] * len(sales_lists[1]) + ['Janet'] * len(sales_lists[2]) + ['Margaret'] * len(sales_lists[3]) + ['Steven'] * len(sales_lists[4]) + ['Michael'] * len(sales_lists[5]) + ['Robert'] * len(sales_lists[6]) + ['Laura'] * len(sales_lists[7]) + ['Anne'] * len(sales_lists[8])"
   ]
  },
  {
   "cell_type": "code",
   "execution_count": 223,
   "metadata": {},
   "outputs": [
    {
     "name": "stdout",
     "output_type": "stream",
     "text": [
      "Multiple Comparison of Means - Tukey HSD,FWER=0.05\n",
      "==================================================\n",
      " group1   group2  meandiff  lower    upper  reject\n",
      "--------------------------------------------------\n",
      " Andrew    Anne   -0.1712  -7.0216   6.6792 False \n",
      " Andrew   Janet   -0.6634  -5.6895   4.3627 False \n",
      " Andrew   Laura   -2.3822  -7.6551   2.8907 False \n",
      " Andrew  Margaret -1.7959  -6.5612   2.9694 False \n",
      " Andrew  Michael  -4.1304  -10.0573  1.7964 False \n",
      " Andrew   Nancy    -1.985  -6.9597   2.9897 False \n",
      " Andrew   Robert   1.3187  -4.5282   7.1656 False \n",
      " Andrew   Steven   0.8242  -5.8203   7.4688 False \n",
      "  Anne    Janet   -0.4922  -7.0749   6.0905 False \n",
      "  Anne    Laura    -2.211  -8.9839   4.562  False \n",
      "  Anne   Margaret -1.6247  -8.0105   4.7611 False \n",
      "  Anne   Michael  -3.9592  -11.2529  3.3344 False \n",
      "  Anne    Nancy   -1.8138  -8.3573   4.7297 False \n",
      "  Anne    Robert   1.4899   -5.739   8.7188 False \n",
      "  Anne    Steven   0.9954  -6.8925   8.8834 False \n",
      " Janet    Laura   -1.7188  -6.6389   3.2014 False \n",
      " Janet   Margaret -1.1325  -5.5043   3.2393 False \n",
      " Janet   Michael   -3.467  -9.0823   2.1483 False \n",
      " Janet    Nancy   -1.3216  -5.9207   3.2775 False \n",
      " Janet    Robert   1.9821  -3.5488   7.513  False \n",
      " Janet    Steven   1.4877  -4.8805   7.8559 False \n",
      " Laura   Margaret  0.5863  -4.0671   5.2396 False \n",
      " Laura   Michael  -1.7483  -7.5855   4.089  False \n",
      " Laura    Nancy    0.3972  -4.4704   5.2647 False \n",
      " Laura    Robert   3.7009  -2.0552   9.4569 False \n",
      " Laura    Steven   3.2064  -3.3583   9.7711 False \n",
      "Margaret Michael  -2.3345  -7.7177   3.0486 False \n",
      "Margaret  Nancy   -0.1891  -4.5017   4.1234 False \n",
      "Margaret  Robert   3.1146  -2.1804   8.4096 False \n",
      "Margaret  Steven   2.6201  -3.5443   8.7846 False \n",
      "Michael   Nancy    2.1454  -3.4239   7.7147 False \n",
      "Michael   Robert   5.4491  -0.9114  11.8097 False \n",
      "Michael   Steven   4.9547   -2.146  12.0554 False \n",
      " Nancy    Robert   3.3037  -2.1805   8.7879 False \n",
      " Nancy    Steven   2.8093  -3.5184   9.1369 False \n",
      " Robert   Steven  -0.4945  -7.5286   6.5397 False \n",
      "--------------------------------------------------\n"
     ]
    }
   ],
   "source": [
    "print(pairwise_tukeyhsd(x, x_labels, 0.05))"
   ]
  },
  {
   "cell_type": "code",
   "execution_count": 224,
   "metadata": {},
   "outputs": [
    {
     "data": {
      "image/png": "[encoded data removed]",
      "text/plain": [
       "<Figure size 720x432 with 1 Axes>"
      ]
     },
     "metadata": {},
     "output_type": "display_data"
    }
   ],
   "source": [
    "tukey_viz = MultiComparison(x, x_labels)\n",
    "results = tukey_viz.tukeyhsd(alpha=0.05)\n",
    "x = results.plot_simultaneous()"
   ]
  },
  {
   "cell_type": "markdown",
   "metadata": {},
   "source": [
    "### Conclusion: There is not sufficience evidence to suggest that the salesperson has a significant effect on the number of products customers order."
   ]
  },
  {
   "cell_type": "markdown",
   "metadata": {},
   "source": [
    "## Power simulation for question 3\n",
    "\n",
    "Check to see the required sample size to detect difference between highest and lowest mean number of orders per sales person. "
   ]
  },
  {
   "cell_type": "code",
   "execution_count": 225,
   "metadata": {},
   "outputs": [
    {
     "data": {
      "text/html": [
       "<div>\n",
       "<style scoped>\n",
       "    .dataframe tbody tr th:only-of-type {\n",
       "        vertical-align: middle;\n",
       "    }\n",
       "\n",
       "    .dataframe tbody tr th {\n",
       "        vertical-align: top;\n",
       "    }\n",
       "\n",
       "    .dataframe thead th {\n",
       "        text-align: right;\n",
       "    }\n",
       "</style>\n",
       "<table border=\"1\" class=\"dataframe\">\n",
       "  <thead>\n",
       "    <tr style=\"text-align: right;\">\n",
       "      <th></th>\n",
       "      <th>Quantity</th>\n",
       "    </tr>\n",
       "    <tr>\n",
       "      <th>FirstName</th>\n",
       "      <th></th>\n",
       "    </tr>\n",
       "  </thead>\n",
       "  <tbody>\n",
       "    <tr>\n",
       "      <th>Michael</th>\n",
       "      <td>20.994048</td>\n",
       "    </tr>\n",
       "    <tr>\n",
       "      <th>Laura</th>\n",
       "      <td>22.742308</td>\n",
       "    </tr>\n",
       "    <tr>\n",
       "      <th>Nancy</th>\n",
       "      <td>23.139466</td>\n",
       "    </tr>\n",
       "    <tr>\n",
       "      <th>Margaret</th>\n",
       "      <td>23.328571</td>\n",
       "    </tr>\n",
       "    <tr>\n",
       "      <th>Janet</th>\n",
       "      <td>24.461059</td>\n",
       "    </tr>\n",
       "    <tr>\n",
       "      <th>Anne</th>\n",
       "      <td>24.953271</td>\n",
       "    </tr>\n",
       "    <tr>\n",
       "      <th>Andrew</th>\n",
       "      <td>25.124481</td>\n",
       "    </tr>\n",
       "    <tr>\n",
       "      <th>Steven</th>\n",
       "      <td>25.948718</td>\n",
       "    </tr>\n",
       "    <tr>\n",
       "      <th>Robert</th>\n",
       "      <td>26.443182</td>\n",
       "    </tr>\n",
       "  </tbody>\n",
       "</table>\n",
       "</div>"
      ],
      "text/plain": [
       "            Quantity\n",
       "FirstName           \n",
       "Michael    20.994048\n",
       "Laura      22.742308\n",
       "Nancy      23.139466\n",
       "Margaret   23.328571\n",
       "Janet      24.461059\n",
       "Anne       24.953271\n",
       "Andrew     25.124481\n",
       "Steven     25.948718\n",
       "Robert     26.443182"
      ]
     },
     "execution_count": 225,
     "metadata": {},
     "output_type": "execute_result"
    }
   ],
   "source": [
    "employee_sales_df = main_df.groupby('FirstName').mean()[['Quantity']]\n",
    "employee_sales_df.sort_values(by=[\"Quantity\"])"
   ]
  },
  {
   "cell_type": "code",
   "execution_count": 226,
   "metadata": {},
   "outputs": [
    {
     "name": "stdout",
     "output_type": "stream",
     "text": [
      "Robert mean & std_dev: 26.443181818181817 21.185093387053595\n",
      "Michael mean & std_dev: 20.99404761904762 16.69468595713318\n",
      "Qnty sales: Michael, Robert: 168 176\n"
     ]
    }
   ],
   "source": [
    "michael_sales = main_df.loc[main_df[\"FirstName\"]=='Michael']\n",
    "robert_sales = main_df.loc[main_df[\"FirstName\"]=='Robert']\n",
    "\n",
    "robert_mean, robert_std = robert_sales.Quantity.mean(), robert_sales.Quantity.std()\n",
    "michael_mean, michael_std = michael_sales.Quantity.mean(), michael_sales.Quantity.std()\n",
    "print(\"Robert mean & std_dev: \" + str(robert_mean) + \" \" + str(robert_std))\n",
    "print(\"Michael mean & std_dev: \" + str(michael_mean) + \" \" + str(michael_std))\n",
    "print(\"Qnty sales: Michael, Robert: \" + str(len(michael_sales)) + \" \" + str(len(robert_sales)))"
   ]
  },
  {
   "cell_type": "code",
   "execution_count": 227,
   "metadata": {},
   "outputs": [],
   "source": [
    "target = 0.95\n",
    "sample_size  = 100\n",
    "current = 0\n",
    "n_sim = 800"
   ]
  },
  {
   "cell_type": "code",
   "execution_count": 228,
   "metadata": {},
   "outputs": [
    {
     "name": "stdout",
     "output_type": "stream",
     "text": [
      "Number of Samples: 100 , Calculated Power = 0.63875\n",
      "Number of Samples: 120 , Calculated Power = 0.73625\n",
      "Number of Samples: 140 , Calculated Power = 0.75875\n",
      "Number of Samples: 160 , Calculated Power = 0.8225\n",
      "Number of Samples: 180 , Calculated Power = 0.85375\n",
      "Number of Samples: 200 , Calculated Power = 0.8525\n",
      "Number of Samples: 220 , Calculated Power = 0.9125\n",
      "Number of Samples: 240 , Calculated Power = 0.93875\n",
      "Number of Samples: 260 , Calculated Power = 0.95125\n"
     ]
    },
    {
     "data": {
      "text/plain": [
       "[260, 0.95125]"
      ]
     },
     "execution_count": 228,
     "metadata": {},
     "output_type": "execute_result"
    }
   ],
   "source": [
    "np.random.seed(10)\n",
    "\n",
    "power_sample = [] \n",
    "\n",
    "while current < target:\n",
    "    data = np.empty([n_sim, sample_size, 2])\n",
    "    data.fill(np.nan)\n",
    "\n",
    "    # Michael\n",
    "    data[:,:,0] = np.random.normal(loc=michael_mean, scale=michael_std, size=[n_sim, sample_size])\n",
    "\n",
    "    # Robert\n",
    "    data[:,:,1] = np.random.normal(loc=robert_mean, scale=robert_std, size=[n_sim, sample_size])\n",
    "\n",
    "    result = stats.ttest_ind(data[:, :, 0],data[:, :, 1],axis=1)\n",
    "    p = result[1] \n",
    "    # Number of simulations where the null hypothesis was rejected\n",
    "\n",
    "    rejects = np.sum(p/2 < alpha)\n",
    "\n",
    "    # Calculate reject proportion\n",
    "\n",
    "    reject_proportion = rejects/ float(n_sim) \n",
    "    current = reject_proportion \n",
    "    print (\"Number of Samples:\", sample_size,\", Calculated Power =\", current)\n",
    "    power_sample.append([sample_size, current]) \n",
    "   \n",
    "    # increase the number of samples for the next iteration of the loop\n",
    "    sample_size += 20\n",
    "    \n",
    "power_sample[-1]"
   ]
  },
  {
   "cell_type": "code",
   "execution_count": 229,
   "metadata": {},
   "outputs": [
    {
     "name": "stdout",
     "output_type": "stream",
     "text": [
      "337\n",
      "241\n",
      "321\n",
      "420\n",
      "117\n",
      "168\n",
      "176\n",
      "260\n",
      "107\n"
     ]
    }
   ],
   "source": [
    "for i in sales_lists:\n",
    "    print(len(i))"
   ]
  },
  {
   "cell_type": "markdown",
   "metadata": {},
   "source": [
    "Only around half of the employees have sales quantities that are large enough to give a reliable result for detecting the largest difference in mean order quantities.  The conclusion of the test is therefore subject to re-evaluation once larger sample sizes are available."
   ]
  },
  {
   "cell_type": "markdown",
   "metadata": {},
   "source": [
    "## Question 4 Does the availability of discounts have a significant effect on the proportion of a customer's order that is made up of discounted products?\n",
    "\n"
   ]
  },
  {
   "cell_type": "markdown",
   "metadata": {},
   "source": [
    "### Null Hypothesis:\n",
    "\n",
    "If a discount is available, the expected mean proportion of discouted products per order (when a discount is available) is 0.5 (Discounted products are expected to make up 50% of the order). \n",
    "\n",
    "### Alternative Hypothesis\n",
    "\n",
    "If a discount is available, the actual mean proportion of discounted products per order (when a discount is available) is greater than 0.5.\n",
    "\n",
    "### Type of statistical test used:\n",
    "\n",
    "One tailed t-test (greater-than)\n",
    "\n",
    "### Data-set used:\n",
    "\n",
    "Null hypothesis: A hypothetical distribution for the null hypothesis, in which the mean proportion of discounted products in each order is 0.5 and the standard deviation and sample size are both the same as that of the alternative hypothesis.\n",
    "\n",
    "Alternative hypothesis: For every order where a discounted product is included, the proportion is calculated as the quantity of discounted products / total quantity of products.  If the entire order is for discounted products, the proportion will be 1.  If there are no discounted products the order is not included in the dataset."
   ]
  },
  {
   "cell_type": "code",
   "execution_count": 230,
   "metadata": {
    "scrolled": true
   },
   "outputs": [
    {
     "data": {
      "text/html": [
       "<div>\n",
       "<style scoped>\n",
       "    .dataframe tbody tr th:only-of-type {\n",
       "        vertical-align: middle;\n",
       "    }\n",
       "\n",
       "    .dataframe tbody tr th {\n",
       "        vertical-align: top;\n",
       "    }\n",
       "\n",
       "    .dataframe thead th {\n",
       "        text-align: right;\n",
       "    }\n",
       "</style>\n",
       "<table border=\"1\" class=\"dataframe\">\n",
       "  <thead>\n",
       "    <tr style=\"text-align: right;\">\n",
       "      <th></th>\n",
       "      <th></th>\n",
       "      <th>EmployeeId</th>\n",
       "      <th>Quantity</th>\n",
       "      <th>ProductId</th>\n",
       "      <th>SalePrice</th>\n",
       "      <th>ListPrice</th>\n",
       "    </tr>\n",
       "    <tr>\n",
       "      <th>OrderId</th>\n",
       "      <th>Discount</th>\n",
       "      <th></th>\n",
       "      <th></th>\n",
       "      <th></th>\n",
       "      <th></th>\n",
       "      <th></th>\n",
       "    </tr>\n",
       "  </thead>\n",
       "  <tbody>\n",
       "    <tr>\n",
       "      <th>11067</th>\n",
       "      <th>0.00</th>\n",
       "      <td>1</td>\n",
       "      <td>9</td>\n",
       "      <td>41</td>\n",
       "      <td>9.65</td>\n",
       "      <td>9.65</td>\n",
       "    </tr>\n",
       "    <tr>\n",
       "      <th>11068</th>\n",
       "      <th>0.15</th>\n",
       "      <td>24</td>\n",
       "      <td>72</td>\n",
       "      <td>148</td>\n",
       "      <td>104.60</td>\n",
       "      <td>104.60</td>\n",
       "    </tr>\n",
       "    <tr>\n",
       "      <th>11069</th>\n",
       "      <th>0.00</th>\n",
       "      <td>1</td>\n",
       "      <td>20</td>\n",
       "      <td>39</td>\n",
       "      <td>18.00</td>\n",
       "      <td>18.00</td>\n",
       "    </tr>\n",
       "    <tr>\n",
       "      <th rowspan=\"2\" valign=\"top\">11070</th>\n",
       "      <th>0.00</th>\n",
       "      <td>2</td>\n",
       "      <td>20</td>\n",
       "      <td>31</td>\n",
       "      <td>12.50</td>\n",
       "      <td>12.50</td>\n",
       "    </tr>\n",
       "    <tr>\n",
       "      <th>0.15</th>\n",
       "      <td>6</td>\n",
       "      <td>90</td>\n",
       "      <td>19</td>\n",
       "      <td>54.45</td>\n",
       "      <td>54.45</td>\n",
       "    </tr>\n",
       "    <tr>\n",
       "      <th>11071</th>\n",
       "      <th>0.05</th>\n",
       "      <td>2</td>\n",
       "      <td>25</td>\n",
       "      <td>20</td>\n",
       "      <td>36.00</td>\n",
       "      <td>36.00</td>\n",
       "    </tr>\n",
       "    <tr>\n",
       "      <th>11072</th>\n",
       "      <th>0.00</th>\n",
       "      <td>16</td>\n",
       "      <td>200</td>\n",
       "      <td>157</td>\n",
       "      <td>78.15</td>\n",
       "      <td>78.15</td>\n",
       "    </tr>\n",
       "    <tr>\n",
       "      <th>11073</th>\n",
       "      <th>0.00</th>\n",
       "      <td>4</td>\n",
       "      <td>30</td>\n",
       "      <td>35</td>\n",
       "      <td>25.50</td>\n",
       "      <td>25.50</td>\n",
       "    </tr>\n",
       "    <tr>\n",
       "      <th>11074</th>\n",
       "      <th>0.05</th>\n",
       "      <td>7</td>\n",
       "      <td>14</td>\n",
       "      <td>16</td>\n",
       "      <td>17.45</td>\n",
       "      <td>17.45</td>\n",
       "    </tr>\n",
       "    <tr>\n",
       "      <th>11075</th>\n",
       "      <th>0.15</th>\n",
       "      <td>24</td>\n",
       "      <td>42</td>\n",
       "      <td>124</td>\n",
       "      <td>49.00</td>\n",
       "      <td>49.00</td>\n",
       "    </tr>\n",
       "    <tr>\n",
       "      <th>11076</th>\n",
       "      <th>0.25</th>\n",
       "      <td>12</td>\n",
       "      <td>50</td>\n",
       "      <td>39</td>\n",
       "      <td>57.45</td>\n",
       "      <td>57.45</td>\n",
       "    </tr>\n",
       "    <tr>\n",
       "      <th rowspan=\"4\" valign=\"top\">11077</th>\n",
       "      <th>0.00</th>\n",
       "      <td>12</td>\n",
       "      <td>27</td>\n",
       "      <td>451</td>\n",
       "      <td>188.40</td>\n",
       "      <td>188.40</td>\n",
       "    </tr>\n",
       "    <tr>\n",
       "      <th>0.05</th>\n",
       "      <td>3</td>\n",
       "      <td>5</td>\n",
       "      <td>58</td>\n",
       "      <td>86.00</td>\n",
       "      <td>86.00</td>\n",
       "    </tr>\n",
       "    <tr>\n",
       "      <th>0.10</th>\n",
       "      <td>1</td>\n",
       "      <td>2</td>\n",
       "      <td>8</td>\n",
       "      <td>40.00</td>\n",
       "      <td>40.00</td>\n",
       "    </tr>\n",
       "    <tr>\n",
       "      <th>0.20</th>\n",
       "      <td>1</td>\n",
       "      <td>24</td>\n",
       "      <td>2</td>\n",
       "      <td>19.00</td>\n",
       "      <td>19.00</td>\n",
       "    </tr>\n",
       "  </tbody>\n",
       "</table>\n",
       "</div>"
      ],
      "text/plain": [
       "                  EmployeeId  Quantity  ProductId  SalePrice  ListPrice\n",
       "OrderId Discount                                                       \n",
       "11067   0.00               1         9         41       9.65       9.65\n",
       "11068   0.15              24        72        148     104.60     104.60\n",
       "11069   0.00               1        20         39      18.00      18.00\n",
       "11070   0.00               2        20         31      12.50      12.50\n",
       "        0.15               6        90         19      54.45      54.45\n",
       "11071   0.05               2        25         20      36.00      36.00\n",
       "11072   0.00              16       200        157      78.15      78.15\n",
       "11073   0.00               4        30         35      25.50      25.50\n",
       "11074   0.05               7        14         16      17.45      17.45\n",
       "11075   0.15              24        42        124      49.00      49.00\n",
       "11076   0.25              12        50         39      57.45      57.45\n",
       "11077   0.00              12        27        451     188.40     188.40\n",
       "        0.05               3         5         58      86.00      86.00\n",
       "        0.10               1         2          8      40.00      40.00\n",
       "        0.20               1        24          2      19.00      19.00"
      ]
     },
     "execution_count": 230,
     "metadata": {},
     "output_type": "execute_result"
    }
   ],
   "source": [
    "main_df.groupby([\"OrderId\", \"Discount\"]).sum().tail(15)"
   ]
  },
  {
   "cell_type": "markdown",
   "metadata": {},
   "source": [
    "Create dataframe of all orders showing only the order quantities within the order where a discount is applied:"
   ]
  },
  {
   "cell_type": "code",
   "execution_count": 231,
   "metadata": {},
   "outputs": [
    {
     "data": {
      "text/html": [
       "<div>\n",
       "<style scoped>\n",
       "    .dataframe tbody tr th:only-of-type {\n",
       "        vertical-align: middle;\n",
       "    }\n",
       "\n",
       "    .dataframe tbody tr th {\n",
       "        vertical-align: top;\n",
       "    }\n",
       "\n",
       "    .dataframe thead th {\n",
       "        text-align: right;\n",
       "    }\n",
       "</style>\n",
       "<table border=\"1\" class=\"dataframe\">\n",
       "  <thead>\n",
       "    <tr style=\"text-align: right;\">\n",
       "      <th></th>\n",
       "      <th></th>\n",
       "      <th>EmployeeId</th>\n",
       "      <th>Quantity</th>\n",
       "      <th>ProductId</th>\n",
       "      <th>SalePrice</th>\n",
       "      <th>ListPrice</th>\n",
       "    </tr>\n",
       "    <tr>\n",
       "      <th>OrderId</th>\n",
       "      <th>Discount</th>\n",
       "      <th></th>\n",
       "      <th></th>\n",
       "      <th></th>\n",
       "      <th></th>\n",
       "      <th></th>\n",
       "    </tr>\n",
       "  </thead>\n",
       "  <tbody>\n",
       "    <tr>\n",
       "      <th>11075</th>\n",
       "      <th>0.15</th>\n",
       "      <td>24</td>\n",
       "      <td>42</td>\n",
       "      <td>124</td>\n",
       "      <td>49.00</td>\n",
       "      <td>49.00</td>\n",
       "    </tr>\n",
       "    <tr>\n",
       "      <th>11076</th>\n",
       "      <th>0.25</th>\n",
       "      <td>12</td>\n",
       "      <td>50</td>\n",
       "      <td>39</td>\n",
       "      <td>57.45</td>\n",
       "      <td>57.45</td>\n",
       "    </tr>\n",
       "    <tr>\n",
       "      <th rowspan=\"3\" valign=\"top\">11077</th>\n",
       "      <th>0.05</th>\n",
       "      <td>3</td>\n",
       "      <td>5</td>\n",
       "      <td>58</td>\n",
       "      <td>86.00</td>\n",
       "      <td>86.00</td>\n",
       "    </tr>\n",
       "    <tr>\n",
       "      <th>0.10</th>\n",
       "      <td>1</td>\n",
       "      <td>2</td>\n",
       "      <td>8</td>\n",
       "      <td>40.00</td>\n",
       "      <td>40.00</td>\n",
       "    </tr>\n",
       "    <tr>\n",
       "      <th>0.20</th>\n",
       "      <td>1</td>\n",
       "      <td>24</td>\n",
       "      <td>2</td>\n",
       "      <td>19.00</td>\n",
       "      <td>19.00</td>\n",
       "    </tr>\n",
       "  </tbody>\n",
       "</table>\n",
       "</div>"
      ],
      "text/plain": [
       "                  EmployeeId  Quantity  ProductId  SalePrice  ListPrice\n",
       "OrderId Discount                                                       \n",
       "11075   0.15              24        42        124      49.00      49.00\n",
       "11076   0.25              12        50         39      57.45      57.45\n",
       "11077   0.05               3         5         58      86.00      86.00\n",
       "        0.10               1         2          8      40.00      40.00\n",
       "        0.20               1        24          2      19.00      19.00"
      ]
     },
     "execution_count": 231,
     "metadata": {},
     "output_type": "execute_result"
    }
   ],
   "source": [
    "disc_orders = main_df[(main_df[\"Discount\"]!=0)].groupby([\"OrderId\", \"Discount\"]).sum()\n",
    "disc_orders.tail()"
   ]
  },
  {
   "cell_type": "markdown",
   "metadata": {},
   "source": [
    "Check to see if there is more than one discount level applied within a single order:"
   ]
  },
  {
   "cell_type": "code",
   "execution_count": 232,
   "metadata": {},
   "outputs": [
    {
     "name": "stdout",
     "output_type": "stream",
     "text": [
      "Order Number 11077 has more than one discount level applied\n"
     ]
    }
   ],
   "source": [
    "check_dict = {}\n",
    "\n",
    "for i in disc_orders.index:\n",
    "    if check_dict.get(i[0]) == None:\n",
    "        check_dict[i[0]] = 1\n",
    "    else:\n",
    "        check_dict[i[0]] += 1\n",
    "        \n",
    "for i in check_dict:\n",
    "    if check_dict[i] > 1:\n",
    "        print('Order Number ' + str((i)) + ' has more than one discount level applied')"
   ]
  },
  {
   "cell_type": "code",
   "execution_count": 233,
   "metadata": {},
   "outputs": [
    {
     "data": {
      "text/html": [
       "<div>\n",
       "<style scoped>\n",
       "    .dataframe tbody tr th:only-of-type {\n",
       "        vertical-align: middle;\n",
       "    }\n",
       "\n",
       "    .dataframe tbody tr th {\n",
       "        vertical-align: top;\n",
       "    }\n",
       "\n",
       "    .dataframe thead th {\n",
       "        text-align: right;\n",
       "    }\n",
       "</style>\n",
       "<table border=\"1\" class=\"dataframe\">\n",
       "  <thead>\n",
       "    <tr style=\"text-align: right;\">\n",
       "      <th></th>\n",
       "      <th></th>\n",
       "      <th>EmployeeId</th>\n",
       "      <th>Quantity</th>\n",
       "      <th>ProductId</th>\n",
       "      <th>SalePrice</th>\n",
       "      <th>ListPrice</th>\n",
       "    </tr>\n",
       "    <tr>\n",
       "      <th>OrderId</th>\n",
       "      <th>Discount</th>\n",
       "      <th></th>\n",
       "      <th></th>\n",
       "      <th></th>\n",
       "      <th></th>\n",
       "      <th></th>\n",
       "    </tr>\n",
       "  </thead>\n",
       "  <tbody>\n",
       "    <tr>\n",
       "      <th rowspan=\"4\" valign=\"top\">11077</th>\n",
       "      <th>0.00</th>\n",
       "      <td>12</td>\n",
       "      <td>27</td>\n",
       "      <td>451</td>\n",
       "      <td>188.4</td>\n",
       "      <td>188.4</td>\n",
       "    </tr>\n",
       "    <tr>\n",
       "      <th>0.05</th>\n",
       "      <td>3</td>\n",
       "      <td>5</td>\n",
       "      <td>58</td>\n",
       "      <td>86.0</td>\n",
       "      <td>86.0</td>\n",
       "    </tr>\n",
       "    <tr>\n",
       "      <th>0.10</th>\n",
       "      <td>1</td>\n",
       "      <td>2</td>\n",
       "      <td>8</td>\n",
       "      <td>40.0</td>\n",
       "      <td>40.0</td>\n",
       "    </tr>\n",
       "    <tr>\n",
       "      <th>0.20</th>\n",
       "      <td>1</td>\n",
       "      <td>24</td>\n",
       "      <td>2</td>\n",
       "      <td>19.0</td>\n",
       "      <td>19.0</td>\n",
       "    </tr>\n",
       "  </tbody>\n",
       "</table>\n",
       "</div>"
      ],
      "text/plain": [
       "                  EmployeeId  Quantity  ProductId  SalePrice  ListPrice\n",
       "OrderId Discount                                                       \n",
       "11077   0.00              12        27        451      188.4      188.4\n",
       "        0.05               3         5         58       86.0       86.0\n",
       "        0.10               1         2          8       40.0       40.0\n",
       "        0.20               1        24          2       19.0       19.0"
      ]
     },
     "execution_count": 233,
     "metadata": {},
     "output_type": "execute_result"
    }
   ],
   "source": [
    "order_11077 = main_df[(main_df[\"OrderId\"]==11077)].groupby([\"OrderId\", \"Discount\"]).sum()\n",
    "order_11077"
   ]
  },
  {
   "cell_type": "markdown",
   "metadata": {},
   "source": [
    "Create dataframe of all orders showing only the order quantities within the order where a discount is NOT applied:"
   ]
  },
  {
   "cell_type": "code",
   "execution_count": 234,
   "metadata": {},
   "outputs": [
    {
     "data": {
      "text/html": [
       "<div>\n",
       "<style scoped>\n",
       "    .dataframe tbody tr th:only-of-type {\n",
       "        vertical-align: middle;\n",
       "    }\n",
       "\n",
       "    .dataframe tbody tr th {\n",
       "        vertical-align: top;\n",
       "    }\n",
       "\n",
       "    .dataframe thead th {\n",
       "        text-align: right;\n",
       "    }\n",
       "</style>\n",
       "<table border=\"1\" class=\"dataframe\">\n",
       "  <thead>\n",
       "    <tr style=\"text-align: right;\">\n",
       "      <th></th>\n",
       "      <th></th>\n",
       "      <th>EmployeeId</th>\n",
       "      <th>Quantity</th>\n",
       "      <th>ProductId</th>\n",
       "      <th>SalePrice</th>\n",
       "      <th>ListPrice</th>\n",
       "    </tr>\n",
       "    <tr>\n",
       "      <th>OrderId</th>\n",
       "      <th>Discount</th>\n",
       "      <th></th>\n",
       "      <th></th>\n",
       "      <th></th>\n",
       "      <th></th>\n",
       "      <th></th>\n",
       "    </tr>\n",
       "  </thead>\n",
       "  <tbody>\n",
       "    <tr>\n",
       "      <th>11069</th>\n",
       "      <th>0.0</th>\n",
       "      <td>1</td>\n",
       "      <td>20</td>\n",
       "      <td>39</td>\n",
       "      <td>18.00</td>\n",
       "      <td>18.00</td>\n",
       "    </tr>\n",
       "    <tr>\n",
       "      <th>11070</th>\n",
       "      <th>0.0</th>\n",
       "      <td>2</td>\n",
       "      <td>20</td>\n",
       "      <td>31</td>\n",
       "      <td>12.50</td>\n",
       "      <td>12.50</td>\n",
       "    </tr>\n",
       "    <tr>\n",
       "      <th>11072</th>\n",
       "      <th>0.0</th>\n",
       "      <td>16</td>\n",
       "      <td>200</td>\n",
       "      <td>157</td>\n",
       "      <td>78.15</td>\n",
       "      <td>78.15</td>\n",
       "    </tr>\n",
       "    <tr>\n",
       "      <th>11073</th>\n",
       "      <th>0.0</th>\n",
       "      <td>4</td>\n",
       "      <td>30</td>\n",
       "      <td>35</td>\n",
       "      <td>25.50</td>\n",
       "      <td>25.50</td>\n",
       "    </tr>\n",
       "    <tr>\n",
       "      <th>11077</th>\n",
       "      <th>0.0</th>\n",
       "      <td>12</td>\n",
       "      <td>27</td>\n",
       "      <td>451</td>\n",
       "      <td>188.40</td>\n",
       "      <td>188.40</td>\n",
       "    </tr>\n",
       "  </tbody>\n",
       "</table>\n",
       "</div>"
      ],
      "text/plain": [
       "                  EmployeeId  Quantity  ProductId  SalePrice  ListPrice\n",
       "OrderId Discount                                                       \n",
       "11069   0.0                1        20         39      18.00      18.00\n",
       "11070   0.0                2        20         31      12.50      12.50\n",
       "11072   0.0               16       200        157      78.15      78.15\n",
       "11073   0.0                4        30         35      25.50      25.50\n",
       "11077   0.0               12        27        451     188.40     188.40"
      ]
     },
     "execution_count": 234,
     "metadata": {},
     "output_type": "execute_result"
    }
   ],
   "source": [
    "no_disc_orders = main_df[main_df[\"Discount\"]==0].groupby([\"OrderId\", \"Discount\"]).sum()\n",
    "no_disc_orders.tail()"
   ]
  },
  {
   "cell_type": "markdown",
   "metadata": {},
   "source": [
    "Create a dictionary where the key is the order Id and the value is the Quantity of non-discounted products corresponding to that order."
   ]
  },
  {
   "cell_type": "code",
   "execution_count": 235,
   "metadata": {},
   "outputs": [
    {
     "data": {
      "text/plain": [
       "613"
      ]
     },
     "execution_count": 235,
     "metadata": {},
     "output_type": "execute_result"
    }
   ],
   "source": [
    "no_disc_dict = {}\n",
    "\n",
    "for i, val in enumerate(no_disc_orders.index):\n",
    "    no_disc_dict[val[0]] = no_disc_orders.Quantity[i]\n",
    "    \n",
    "len(no_disc_dict)"
   ]
  },
  {
   "cell_type": "markdown",
   "metadata": {},
   "source": [
    "Create a dictionary where they key is the Order Id and the value is the Quantity of discounted products corresponding to that order. Where multiple discounts are applied, the value should be the sum of those Quantities."
   ]
  },
  {
   "cell_type": "code",
   "execution_count": 236,
   "metadata": {},
   "outputs": [
    {
     "data": {
      "text/plain": [
       "380"
      ]
     },
     "execution_count": 236,
     "metadata": {},
     "output_type": "execute_result"
    }
   ],
   "source": [
    "disc_dict = {}\n",
    "\n",
    "for i, val in enumerate(disc_orders.index):\n",
    "    if disc_dict.get(val[0]) == None:\n",
    "        disc_dict[val[0]] = 0\n",
    "        disc_dict[val[0]] += disc_orders.Quantity[i]\n",
    "    else:    \n",
    "        disc_dict[val[0]] += disc_orders.Quantity[i]\n",
    "    \n",
    "len(disc_dict)"
   ]
  },
  {
   "cell_type": "markdown",
   "metadata": {},
   "source": [
    "Create a list of Order IDs based on the dictionary containing discounted orders (the test is only interested in orders where a discount has been applied)."
   ]
  },
  {
   "cell_type": "code",
   "execution_count": 237,
   "metadata": {},
   "outputs": [
    {
     "data": {
      "text/plain": [
       "380"
      ]
     },
     "execution_count": 237,
     "metadata": {},
     "output_type": "execute_result"
    }
   ],
   "source": [
    "order_id_list = list(disc_dict.keys())\n",
    "                          \n",
    "len(order_id_list)"
   ]
  },
  {
   "cell_type": "markdown",
   "metadata": {},
   "source": [
    "Create a new dictionary where the keys all correspond to Order IDs where a discount has been applied, and the values are matched to the non-discounted dictionary, to give the the Quantity of non-discounted products in that order.  If all the products in the order have been discounted, there will not be a corresponding value in the non-discounted dictionary and the value can be set to 0:"
   ]
  },
  {
   "cell_type": "code",
   "execution_count": 238,
   "metadata": {},
   "outputs": [],
   "source": [
    "no_disc_qnty = {}\n",
    "\n",
    "for i in order_id_list:\n",
    "    if no_disc_dict.get(i) == None:\n",
    "        no_disc_qnty[i] = 0\n",
    "    else:\n",
    "        no_disc_qnty[i] = no_disc_dict[i]"
   ]
  },
  {
   "cell_type": "code",
   "execution_count": 239,
   "metadata": {},
   "outputs": [
    {
     "data": {
      "text/plain": [
       "380"
      ]
     },
     "execution_count": 239,
     "metadata": {},
     "output_type": "execute_result"
    }
   ],
   "source": [
    "#Dictionary:  All orders with discounted products, qnty of discounted products\n",
    "len(disc_dict)"
   ]
  },
  {
   "cell_type": "code",
   "execution_count": 240,
   "metadata": {},
   "outputs": [
    {
     "data": {
      "text/plain": [
       "380"
      ]
     },
     "execution_count": 240,
     "metadata": {},
     "output_type": "execute_result"
    }
   ],
   "source": [
    "#Dictionary:  All orders with discounted products, qnty of non-discounted products\n",
    "len(no_disc_qnty)"
   ]
  },
  {
   "cell_type": "markdown",
   "metadata": {},
   "source": [
    "Create a list of proportions where the quantity of discounted products in the order is divided by the total number of products in the order.  (If all the products in the order are discounted, the proportion will be 1.)"
   ]
  },
  {
   "cell_type": "code",
   "execution_count": 241,
   "metadata": {},
   "outputs": [
    {
     "data": {
      "text/plain": [
       "380"
      ]
     },
     "execution_count": 241,
     "metadata": {},
     "output_type": "execute_result"
    }
   ],
   "source": [
    "list_of_proportions = []\n",
    "\n",
    "for i in order_id_list:\n",
    "\n",
    "    list_of_proportions.append(disc_dict[i] / (disc_dict[i] + no_disc_qnty[i]))\n",
    "\n",
    "len(list_of_proportions)"
   ]
  },
  {
   "cell_type": "code",
   "execution_count": 242,
   "metadata": {},
   "outputs": [
    {
     "data": {
      "image/png": "[encoded data removed]",
      "text/plain": [
       "<Figure size 1008x576 with 1 Axes>"
      ]
     },
     "metadata": {},
     "output_type": "display_data"
    }
   ],
   "source": [
    "null_hyp_proportions = np.random.normal(loc=0.5, scale=np.std(list_of_proportions), size=len(disc_dict))\n",
    "\n",
    "sns.set(color_codes=True)\n",
    "sns.set(rc={'figure.figsize':(14,8)})\n",
    "\n",
    "#fig = sns.distplot(null_hyp_proportions)\n",
    "fig = sns.distplot(list_of_proportions)\n",
    "plt.xlabel(\"Proportion of order that is made up of discounted products\")\n",
    "plt.title(\"Distribution of proportion of each order that is made up of discounted products\");"
   ]
  },
  {
   "cell_type": "markdown",
   "metadata": {},
   "source": [
    "## Power simulation for Question 4"
   ]
  },
  {
   "cell_type": "code",
   "execution_count": 243,
   "metadata": {},
   "outputs": [],
   "source": [
    "target = 0.95\n",
    "sample_size  = 10\n",
    "current = 0\n",
    "n_sim = 800"
   ]
  },
  {
   "cell_type": "code",
   "execution_count": 244,
   "metadata": {},
   "outputs": [
    {
     "name": "stdout",
     "output_type": "stream",
     "text": [
      "Number of Samples: 10 , Calculated Power = 0.875\n",
      "Number of Samples: 11 , Calculated Power = 0.91625\n",
      "Number of Samples: 12 , Calculated Power = 0.9125\n",
      "Number of Samples: 13 , Calculated Power = 0.9325\n",
      "Number of Samples: 14 , Calculated Power = 0.95875\n"
     ]
    },
    {
     "data": {
      "text/plain": [
       "[14, 0.95875]"
      ]
     },
     "execution_count": 244,
     "metadata": {},
     "output_type": "execute_result"
    }
   ],
   "source": [
    "np.random.seed(10)\n",
    "\n",
    "power_sample = [] \n",
    "\n",
    "while current < target:\n",
    "    data = np.empty([n_sim, sample_size, 2])\n",
    "    data.fill(np.nan)\n",
    "\n",
    "    # Hypothetical population with a mean proportion of 0.5\n",
    "    data[:,:,0] = np.random.normal(loc=np.mean(null_hyp_proportions), scale=np.std(list_of_proportions), size=[n_sim, sample_size])\n",
    "\n",
    "    # Actual data - list of proportions\n",
    "    data[:,:,1] = np.random.normal(loc=np.mean(list_of_proportions), scale=np.std(list_of_proportions), size=[n_sim, sample_size])\n",
    "\n",
    "    result = stats.ttest_ind(data[:, :, 0],data[:, :, 1],axis=1)\n",
    "    p = result[1] \n",
    "    # Number of simulations where the null hypothesis was rejected\n",
    "\n",
    "    rejects = np.sum(p/2 < alpha)\n",
    "\n",
    "    # Calculate reject proportion\n",
    "\n",
    "    reject_proportion = rejects/ float(n_sim) \n",
    "    current = reject_proportion \n",
    "    print (\"Number of Samples:\", sample_size,\", Calculated Power =\", current)\n",
    "    power_sample.append([sample_size, current]) \n",
    "   \n",
    "    # increase the number of samples for the next iteration of the loop\n",
    "    sample_size += 1\n",
    "    \n",
    "power_sample[-1]"
   ]
  },
  {
   "cell_type": "markdown",
   "metadata": {},
   "source": [
    "The sample size required to detect an effect size of this magnitude is very small."
   ]
  },
  {
   "cell_type": "markdown",
   "metadata": {},
   "source": [
    "### A one-sample t-test can be used against a hypothetical population mean of 0.5."
   ]
  },
  {
   "cell_type": "code",
   "execution_count": 252,
   "metadata": {},
   "outputs": [],
   "source": [
    "def one_sample_t_test(sample,exp_mean):\n",
    "    \"\"\" Runs a one-sample t-test.\n",
    "    \n",
    "    The first parameter shoudl be the sample, and the second is the assumed population mean.\n",
    "    \n",
    "    Prints a description of results. \n",
    "        \n",
    "    \"\"\"\n",
    "    t_stat, p_value = stats.ttest_1samp(sample,exp_mean)\n",
    "    \n",
    "    if t_stat > 0:\n",
    "        print('The mean of the sample is greater than the expected mean.')\n",
    "    else:\n",
    "        print('The mean of the sample is lower than the expected mean')\n",
    "    if p_value/2 < alpha:\n",
    "        print('The one-tailed p_value of ' + str(p_value/2) + ' is less than ' + str(alpha) + ' so the difference is statistically significant. \\n')\n",
    "    else:\n",
    "        print('The one-tailed p_value of ' + str(p_value/2) + ' is NOT less than ' + str(alpha) + ' so the difference is not statistically significant. \\n')"
   ]
  },
  {
   "cell_type": "code",
   "execution_count": 254,
   "metadata": {},
   "outputs": [
    {
     "name": "stdout",
     "output_type": "stream",
     "text": [
      "The mean of the sample is greater than the expected mean.\n",
      "The one-tailed p_value of 0.0024551133823122687 is less than 0.05 so the difference is statistically significant. \n",
      "\n"
     ]
    }
   ],
   "source": [
    "exp_mean = 0.5\n",
    "samp_size = 15\n",
    "prop_sample = np.random.choice(list_of_proportions, samp_size)\n",
    "one_sample_t_test(prop_sample, exp_mean)"
   ]
  },
  {
   "cell_type": "markdown",
   "metadata": {},
   "source": [
    "Perform t-test 100 times with different samples to check results:"
   ]
  },
  {
   "cell_type": "code",
   "execution_count": 255,
   "metadata": {},
   "outputs": [],
   "source": [
    "reject_null_count = 0\n",
    "fail_to_reject_count = 0\n",
    "for i in list(range(100)):\n",
    "    prop_sample = np.random.choice(list_of_proportions, samp_size)\n",
    "    t_stat, p_value = stats.ttest_1samp(prop_sample,exp_mean)\n",
    "    if p_value/2 < alpha:\n",
    "        reject_null_count += 1\n",
    "    else:\n",
    "        fail_to_reject_count += 1"
   ]
  },
  {
   "cell_type": "code",
   "execution_count": 256,
   "metadata": {},
   "outputs": [
    {
     "name": "stdout",
     "output_type": "stream",
     "text": [
      "After 100 trials the null hypothesis is rejected 100 times\n"
     ]
    }
   ],
   "source": [
    "print('After 100 trials the null hypothesis is rejected ' + str(reject_null_count) + ' times')"
   ]
  },
  {
   "cell_type": "markdown",
   "metadata": {},
   "source": [
    "### Question 4 Conclusion - There is sufficient evidence to suggest that when products are available at a discount, the proportion of a customer's order that will be made up of discounted products is significantly higher than 50%."
   ]
  },
  {
   "cell_type": "markdown",
   "metadata": {},
   "source": [
    "Furthermore, the proportion of a customer's order that will be made up of discounted products is between 80% and 85%.\n",
    "\n",
    "(the full dataset of proportions is used to determine this)"
   ]
  },
  {
   "cell_type": "code",
   "execution_count": 249,
   "metadata": {},
   "outputs": [
    {
     "name": "stdout",
     "output_type": "stream",
     "text": [
      "Test against an assumed mean proportion of 0.6\n",
      "The mean of the sample is greater than the expected mean.\n",
      "The one-tailed p_value of 7.685891469371536e-49 is less than 0.05 so the difference is statistically significant. \n",
      "\n",
      "Test against an assumed mean proportion of 0.7\n",
      "The mean of the sample is greater than the expected mean.\n",
      "The one-tailed p_value of 4.579042639193848e-19 is less than 0.05 so the difference is statistically significant. \n",
      "\n",
      "Test against an assumed mean proportion of 0.8\n",
      "The mean of the sample is greater than the expected mean.\n",
      "The one-tailed p_value of 0.04832701293538769 is less than 0.05 so the difference is statistically significant. \n",
      "\n",
      "Test against an assumed mean proportion of 0.85\n",
      "The mean of the sample is lower than the expected mean\n",
      "The one-tailed p_value of 0.015466312131681294 is less than 0.05 so the difference is statistically significant. \n",
      "\n"
     ]
    }
   ],
   "source": [
    "props_to_test =[0.6, 0.7, 0.8, 0.85]\n",
    "\n",
    "for i in props_to_test:\n",
    "    print('Test against an assumed mean proportion of ' + str(i))\n",
    "    prop_sample = list_of_proportions\n",
    "    one_sample_t_test(prop_sample, i)\n"
   ]
  },
  {
   "cell_type": "code",
   "execution_count": null,
   "metadata": {},
   "outputs": [],
   "source": []
  }
 ],
 "metadata": {
  "kernelspec": {
   "display_name": "learn-env",
   "language": "python",
   "name": "learn-env"
  },
  "language_info": {
   "codemirror_mode": {
    "name": "ipython",
    "version": 3
   },
   "file_extension": ".py",
   "mimetype": "text/x-python",
   "name": "python",
   "nbconvert_exporter": "python",
   "pygments_lexer": "ipython3",
   "version": "3.7.0"
  }
 },
 "nbformat": 4,
 "nbformat_minor": 2
}
